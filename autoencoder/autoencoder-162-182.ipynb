{
 "cells": [
  {
   "cell_type": "markdown",
   "metadata": {},
   "source": [
    "# Feature Extraction through Autoencoder"
   ]
  },
  {
   "cell_type": "markdown",
   "metadata": {},
   "source": [
    "### Unzipping the zip folder containing the images"
   ]
  },
  {
   "cell_type": "code",
   "execution_count": 1,
   "metadata": {},
   "outputs": [],
   "source": [
    "path_to_zip_file = 'frames_162_relevant_v2.zip'\n",
    "directory_to_extract_to = 'Relevant Data'\n",
    "\n",
    "import zipfile\n",
    "with zipfile.ZipFile(path_to_zip_file, 'r') as zip_ref:\n",
    "    zip_ref.extractall(directory_to_extract_to)\n"
   ]
  },
  {
   "cell_type": "code",
   "execution_count": 2,
   "metadata": {},
   "outputs": [],
   "source": [
    "path_to_zip_file = 'frames_182_relevant.zip'\n",
    "directory_to_extract_to = 'Relevant Data'\n",
    "\n",
    "import zipfile\n",
    "with zipfile.ZipFile(path_to_zip_file, 'r') as zip_ref:\n",
    "    zip_ref.extractall(directory_to_extract_to)\n"
   ]
  },
  {
   "cell_type": "markdown",
   "metadata": {},
   "source": [
    "### Merge the two folders"
   ]
  },
  {
   "cell_type": "code",
   "execution_count": 6,
   "metadata": {},
   "outputs": [],
   "source": [
    "import os, shutil\n",
    "\n",
    "def mergefolders(root_src_dir, root_dst_dir):\n",
    "    for src_dir, dirs, files in os.walk(root_src_dir):\n",
    "        dst_dir = src_dir.replace(root_src_dir, root_dst_dir, 1)\n",
    "        if not os.path.exists(dst_dir):\n",
    "            os.makedirs(dst_dir)\n",
    "        for file_ in files:\n",
    "            src_file = os.path.join(src_dir, file_)\n",
    "            dst_file = os.path.join(dst_dir, file_)\n",
    "            if os.path.exists(dst_file):\n",
    "                os.remove(dst_file)\n",
    "            shutil.copy(src_file, dst_dir)\n",
    "            \n",
    "mergefolders('Relevant Data_182/frames_182_relevant_v2', 'Relevant Data/frames_162_relevant_v2')"
   ]
  },
  {
   "cell_type": "markdown",
   "metadata": {},
   "source": [
    "### Splitting the folder of images into train and test"
   ]
  },
  {
   "cell_type": "code",
   "execution_count": 2,
   "metadata": {},
   "outputs": [
    {
     "name": "stdout",
     "output_type": "stream",
     "text": [
      "Total images:  33027\n",
      "Training:  26421\n",
      "Testing:  6606\n"
     ]
    }
   ],
   "source": [
    "import shutil, os\n",
    "import numpy as np\n",
    "# # Creating Train / Val / Test folders (One time use)\n",
    "root_dir = 'Relevant Data'\n",
    "classes_dir = ['/frames_162_relevant_v2']\n",
    "\n",
    "train_ratio = 0.80\n",
    "test_ratio = 0.20\n",
    "\n",
    "for cls in classes_dir:\n",
    "    os.makedirs(root_dir +'/train' + cls)\n",
    "    #os.makedirs(root_dir +'/val' + cls)\n",
    "    os.makedirs(root_dir +'/test' + cls)\n",
    "\n",
    "\n",
    "    # Creating partitions of the data after shuffeling\n",
    "    src = root_dir + cls # Folder to copy images from\n",
    "\n",
    "    allFileNames = os.listdir(src)\n",
    "    np.random.shuffle(allFileNames)\n",
    "    train_FileNames, test_FileNames = np.split(np.array(allFileNames), \n",
    "                                                             [int(len(allFileNames)* 0.8)])\n",
    "\n",
    "    train_FileNames = [src + '/' + name for name in train_FileNames.tolist()]\n",
    "    #val_FileNames = [src + '/' + name for name in val_FileNames.tolist()]\n",
    "    test_FileNames = [src + '/' + name for name in test_FileNames.tolist()]\n",
    "\n",
    "    print('Total images: ', len(allFileNames))\n",
    "    print('Training: ', len(train_FileNames))\n",
    "    #print('Validation: ', len(val_FileNames))\n",
    "    print('Testing: ', len(test_FileNames))\n",
    "\n",
    "    # Copy-pasting images\n",
    "    for name in train_FileNames:\n",
    "        shutil.copy(name, root_dir + '/train')\n",
    "\n",
    "    #for name in val_FileNames:\n",
    "       # shutil.copy(name, root_dir + '/val')\n",
    "\n",
    "    for name in test_FileNames:\n",
    "        shutil.copy(name, root_dir + '/test')"
   ]
  },
  {
   "cell_type": "markdown",
   "metadata": {},
   "source": [
    "### Load the train and test images from the respective folders"
   ]
  },
  {
   "cell_type": "code",
   "execution_count": 3,
   "metadata": {},
   "outputs": [],
   "source": [
    "import os\n",
    "import cv2\n",
    "\n",
    "def load_images_from_folder(path):\n",
    "    images = []\n",
    "    \n",
    "    for filename in os.listdir(path):\n",
    "        if filename.endswith(\".png\"):\n",
    "            img = cv2.imread(os.path.join(path,filename))  #Reading all the images\n",
    "            img = img[10:60, 10:60]  #Resizing all the images to relevant size\n",
    "            img = cv2.cvtColor(img, cv2.COLOR_BGR2GRAY) #Converting all the images to gray scale\n",
    "            \n",
    "            if img is not None:\n",
    "                images.append(img)\n",
    "    return images\n",
    "\n",
    "train_images = load_images_from_folder('Relevant Data/train')\n",
    "test_images = load_images_from_folder('Relevant Data/test')"
   ]
  },
  {
   "cell_type": "code",
   "execution_count": 7,
   "metadata": {},
   "outputs": [
    {
     "data": {
      "text/plain": [
       "(26421, 50, 50)"
      ]
     },
     "execution_count": 7,
     "metadata": {},
     "output_type": "execute_result"
    }
   ],
   "source": [
    "np.array(train_images).shape"
   ]
  },
  {
   "cell_type": "code",
   "execution_count": 10,
   "metadata": {},
   "outputs": [
    {
     "data": {
      "text/plain": [
       "(6606, 50, 50)"
      ]
     },
     "execution_count": 10,
     "metadata": {},
     "output_type": "execute_result"
    }
   ],
   "source": [
    "np.array(test_images).shape"
   ]
  },
  {
   "cell_type": "markdown",
   "metadata": {},
   "source": [
    "### Model definition"
   ]
  },
  {
   "cell_type": "code",
   "execution_count": 11,
   "metadata": {},
   "outputs": [],
   "source": [
    "## Convolutional autoencoder\n",
    "\n",
    "import keras\n",
    "from keras import layers\n",
    "import tensorflow as tf\n",
    "\n",
    "input_layer = keras.Input(shape=(2500,)) # 50x50 image\n",
    "\n",
    "\n",
    "## encoding architecture\n",
    "encode_layer1 = layers.Dense(1500, activation='relu')(input_layer)\n",
    "encode_layer2 = layers.Dense(1000, activation='relu')(encode_layer1)\n",
    "encode_layer3 = layers.Dense(500, activation='relu')(encode_layer2)\n",
    "\n",
    "## latent view\n",
    "latent_view   = layers.Dense(10, activation='sigmoid',name = 'encoder')(encode_layer3)\n",
    "\n",
    "\n",
    "\n",
    "## decoding architecture\n",
    "decode_layer1 = layers.Dense(500, activation='relu')(latent_view)\n",
    "decode_layer2 = layers.Dense(1000, activation='relu')(decode_layer1)\n",
    "decode_layer3 = layers.Dense(1500, activation='relu')(decode_layer2)\n",
    "\n",
    "## output layer\n",
    "output_layer  = layers.Dense(2500)(decode_layer3)\n",
    "\n",
    "autoencoder = keras.Model(input_layer, output_layer)\n",
    "\n",
    "# autoencoder.compile(optimizer = 'adam', loss = 'mean_squared_error') \n",
    "autoencoder.compile(optimizer='adam', loss='mse')\n"
   ]
  },
  {
   "cell_type": "code",
   "execution_count": 12,
   "metadata": {
    "scrolled": true
   },
   "outputs": [
    {
     "name": "stdout",
     "output_type": "stream",
     "text": [
      "Model: \"functional_1\"\n",
      "_________________________________________________________________\n",
      "Layer (type)                 Output Shape              Param #   \n",
      "=================================================================\n",
      "input_1 (InputLayer)         [(None, 2500)]            0         \n",
      "_________________________________________________________________\n",
      "dense (Dense)                (None, 1500)              3751500   \n",
      "_________________________________________________________________\n",
      "dense_1 (Dense)              (None, 1000)              1501000   \n",
      "_________________________________________________________________\n",
      "dense_2 (Dense)              (None, 500)               500500    \n",
      "_________________________________________________________________\n",
      "encoder (Dense)              (None, 10)                5010      \n",
      "_________________________________________________________________\n",
      "dense_3 (Dense)              (None, 500)               5500      \n",
      "_________________________________________________________________\n",
      "dense_4 (Dense)              (None, 1000)              501000    \n",
      "_________________________________________________________________\n",
      "dense_5 (Dense)              (None, 1500)              1501500   \n",
      "_________________________________________________________________\n",
      "dense_6 (Dense)              (None, 2500)              3752500   \n",
      "=================================================================\n",
      "Total params: 11,518,510\n",
      "Trainable params: 11,518,510\n",
      "Non-trainable params: 0\n",
      "_________________________________________________________________\n"
     ]
    }
   ],
   "source": [
    "autoencoder.summary()"
   ]
  },
  {
   "cell_type": "code",
   "execution_count": 13,
   "metadata": {},
   "outputs": [],
   "source": [
    "encoder_model = keras.Model(inputs = autoencoder.input,\n",
    "                        outputs = autoencoder.get_layer(name = 'encoder').output)"
   ]
  },
  {
   "cell_type": "code",
   "execution_count": 14,
   "metadata": {},
   "outputs": [],
   "source": [
    "early_stopping = tf.keras.callbacks.EarlyStopping(monitor='val_loss', min_delta=0, patience=10, verbose=1, mode='auto')"
   ]
  },
  {
   "cell_type": "markdown",
   "metadata": {},
   "source": [
    "### Flatten the 50 x 50 images "
   ]
  },
  {
   "cell_type": "code",
   "execution_count": 15,
   "metadata": {},
   "outputs": [],
   "source": [
    "import numpy as np\n",
    "\n",
    "x_train, x_test = np.array(train_images), np.array(test_images)\n",
    "\n",
    "x_train = x_train.astype('float32') / 255.\n",
    "x_test = x_test.astype('float32') / 255.\n",
    "\n",
    "x_train = np.reshape(x_train, (len(x_train), 50, 50, 1))\n",
    "x_test = np.reshape(x_test, (len(x_test), 50, 50, 1))\n",
    "\n",
    "n_images_test,_,_,_ = x_test.shape\n",
    "n_images_train,_,_,_ = x_train.shape\n",
    "\n",
    "n_images_test\n",
    "\n",
    "x_test = x_test.reshape(n_images_test, 2500, 1)\n",
    "x_train = x_train.reshape(n_images_train, 2500, 1)"
   ]
  },
  {
   "cell_type": "code",
   "execution_count": 16,
   "metadata": {},
   "outputs": [
    {
     "data": {
      "text/plain": [
       "(6606, 2500, 1)"
      ]
     },
     "execution_count": 16,
     "metadata": {},
     "output_type": "execute_result"
    }
   ],
   "source": [
    "x_test.shape"
   ]
  },
  {
   "cell_type": "code",
   "execution_count": 17,
   "metadata": {},
   "outputs": [
    {
     "data": {
      "text/plain": [
       "(26421, 2500, 1)"
      ]
     },
     "execution_count": 17,
     "metadata": {},
     "output_type": "execute_result"
    }
   ],
   "source": [
    "x_train.shape"
   ]
  },
  {
   "cell_type": "markdown",
   "metadata": {},
   "source": [
    "### Train the autoencoder"
   ]
  },
  {
   "cell_type": "code",
   "execution_count": 18,
   "metadata": {},
   "outputs": [
    {
     "name": "stdout",
     "output_type": "stream",
     "text": [
      "Epoch 1/100\n",
      "  1/207 [..............................] - ETA: 0s - loss: 0.0034WARNING:tensorflow:From /Users/Armi/opt/anaconda3/lib/python3.8/site-packages/tensorflow/python/ops/summary_ops_v2.py:1277: stop (from tensorflow.python.eager.profiler) is deprecated and will be removed after 2020-07-01.\n",
      "Instructions for updating:\n",
      "use `tf.profiler.experimental.stop` instead.\n",
      "207/207 [==============================] - 35s 167ms/step - loss: 2.9625e-04 - val_loss: 7.6940e-05\n",
      "Epoch 2/100\n",
      "207/207 [==============================] - 50s 239ms/step - loss: 6.3734e-05 - val_loss: 5.2161e-05\n",
      "Epoch 3/100\n",
      "207/207 [==============================] - 43s 206ms/step - loss: 4.4746e-05 - val_loss: 4.0018e-05\n",
      "Epoch 4/100\n",
      "207/207 [==============================] - 49s 236ms/step - loss: 3.1549e-05 - val_loss: 2.1149e-05\n",
      "Epoch 5/100\n",
      "207/207 [==============================] - 39s 186ms/step - loss: 2.1020e-05 - val_loss: 1.7271e-05\n",
      "Epoch 6/100\n",
      "207/207 [==============================] - 38s 181ms/step - loss: 1.6632e-05 - val_loss: 1.5293e-05\n",
      "Epoch 7/100\n",
      "207/207 [==============================] - 38s 183ms/step - loss: 1.5214e-05 - val_loss: 2.2935e-05\n",
      "Epoch 8/100\n",
      "207/207 [==============================] - 50s 241ms/step - loss: 1.5640e-05 - val_loss: 1.4496e-05\n",
      "Epoch 9/100\n",
      "207/207 [==============================] - 44s 213ms/step - loss: 1.4810e-05 - val_loss: 1.8091e-05\n",
      "Epoch 10/100\n",
      "207/207 [==============================] - 43s 207ms/step - loss: 1.2950e-05 - val_loss: 1.2842e-05\n",
      "Epoch 11/100\n",
      "207/207 [==============================] - 42s 203ms/step - loss: 1.3239e-05 - val_loss: 1.2243e-05\n",
      "Epoch 12/100\n",
      "207/207 [==============================] - 39s 190ms/step - loss: 1.5070e-05 - val_loss: 1.1961e-05\n",
      "Epoch 13/100\n",
      "207/207 [==============================] - 39s 187ms/step - loss: 1.2108e-05 - val_loss: 1.1429e-05\n",
      "Epoch 14/100\n",
      "207/207 [==============================] - 38s 183ms/step - loss: 1.2013e-05 - val_loss: 2.7404e-05\n",
      "Epoch 15/100\n",
      "207/207 [==============================] - 45s 217ms/step - loss: 1.1697e-05 - val_loss: 1.0704e-05\n",
      "Epoch 16/100\n",
      "207/207 [==============================] - 38s 184ms/step - loss: 1.0400e-05 - val_loss: 1.2203e-05\n",
      "Epoch 17/100\n",
      "207/207 [==============================] - 49s 236ms/step - loss: 1.0075e-05 - val_loss: 1.0176e-05\n",
      "Epoch 18/100\n",
      "207/207 [==============================] - 40s 192ms/step - loss: 1.0289e-05 - val_loss: 9.3643e-06\n",
      "Epoch 19/100\n",
      "207/207 [==============================] - 40s 191ms/step - loss: 9.5896e-06 - val_loss: 9.4589e-06\n",
      "Epoch 20/100\n",
      "207/207 [==============================] - 36s 176ms/step - loss: 1.0469e-05 - val_loss: 9.1437e-06\n",
      "Epoch 21/100\n",
      "207/207 [==============================] - 35s 168ms/step - loss: 8.6514e-06 - val_loss: 8.6910e-06\n",
      "Epoch 22/100\n",
      "207/207 [==============================] - 37s 179ms/step - loss: 9.1902e-06 - val_loss: 8.3895e-06\n",
      "Epoch 23/100\n",
      "207/207 [==============================] - 36s 175ms/step - loss: 8.9598e-06 - val_loss: 8.1524e-06\n",
      "Epoch 24/100\n",
      "207/207 [==============================] - 41s 198ms/step - loss: 8.4835e-06 - val_loss: 9.5882e-06\n",
      "Epoch 25/100\n",
      "207/207 [==============================] - 54s 258ms/step - loss: 1.0195e-05 - val_loss: 1.1757e-05\n",
      "Epoch 26/100\n",
      "207/207 [==============================] - 46s 221ms/step - loss: 7.7194e-06 - val_loss: 7.7993e-06\n",
      "Epoch 27/100\n",
      "207/207 [==============================] - 44s 210ms/step - loss: 7.5608e-06 - val_loss: 8.9267e-06\n",
      "Epoch 28/100\n",
      "207/207 [==============================] - 40s 194ms/step - loss: 8.0022e-06 - val_loss: 9.5272e-06\n",
      "Epoch 29/100\n",
      "207/207 [==============================] - 39s 190ms/step - loss: 8.0331e-06 - val_loss: 7.9621e-06\n",
      "Epoch 30/100\n",
      "207/207 [==============================] - 38s 185ms/step - loss: 8.4641e-06 - val_loss: 7.4613e-06\n",
      "Epoch 31/100\n",
      "207/207 [==============================] - 42s 202ms/step - loss: 9.8461e-06 - val_loss: 7.3203e-06\n",
      "Epoch 32/100\n",
      "207/207 [==============================] - 50s 241ms/step - loss: 7.0761e-06 - val_loss: 8.7443e-06\n",
      "Epoch 33/100\n",
      "207/207 [==============================] - 39s 189ms/step - loss: 6.8778e-06 - val_loss: 8.7866e-06\n",
      "Epoch 34/100\n",
      "207/207 [==============================] - 36s 173ms/step - loss: 7.6153e-06 - val_loss: 6.5837e-06\n",
      "Epoch 35/100\n",
      "207/207 [==============================] - 45s 219ms/step - loss: 6.8248e-06 - val_loss: 7.5739e-06\n",
      "Epoch 36/100\n",
      "207/207 [==============================] - 42s 201ms/step - loss: 7.6322e-06 - val_loss: 6.7403e-06\n",
      "Epoch 37/100\n",
      "207/207 [==============================] - 46s 222ms/step - loss: 6.6165e-06 - val_loss: 8.1467e-06\n",
      "Epoch 38/100\n",
      "207/207 [==============================] - 50s 240ms/step - loss: 6.7929e-06 - val_loss: 6.7657e-06\n",
      "Epoch 39/100\n",
      "207/207 [==============================] - 35s 169ms/step - loss: 7.2313e-06 - val_loss: 6.4737e-06\n",
      "Epoch 40/100\n",
      "207/207 [==============================] - 40s 191ms/step - loss: 8.2224e-06 - val_loss: 1.2006e-05\n",
      "Epoch 41/100\n",
      "207/207 [==============================] - 50s 242ms/step - loss: 8.1516e-06 - val_loss: 6.2779e-06\n",
      "Epoch 42/100\n",
      "207/207 [==============================] - 54s 260ms/step - loss: 5.8379e-06 - val_loss: 6.0092e-06\n",
      "Epoch 43/100\n",
      "207/207 [==============================] - 42s 201ms/step - loss: 5.7889e-06 - val_loss: 6.7453e-06\n",
      "Epoch 44/100\n",
      "207/207 [==============================] - 50s 242ms/step - loss: 6.1511e-06 - val_loss: 7.0670e-06\n",
      "Epoch 45/100\n",
      "207/207 [==============================] - 39s 190ms/step - loss: 6.0611e-06 - val_loss: 6.5259e-06\n",
      "Epoch 46/100\n",
      "207/207 [==============================] - 43s 208ms/step - loss: 6.4232e-06 - val_loss: 6.7836e-06\n",
      "Epoch 47/100\n",
      "207/207 [==============================] - 42s 201ms/step - loss: 6.2580e-06 - val_loss: 8.6651e-06\n",
      "Epoch 48/100\n",
      "207/207 [==============================] - 34s 166ms/step - loss: 7.1903e-06 - val_loss: 8.6467e-06\n",
      "Epoch 49/100\n",
      "207/207 [==============================] - 33s 160ms/step - loss: 5.6504e-06 - val_loss: 5.6439e-06\n",
      "Epoch 50/100\n",
      "207/207 [==============================] - 33s 158ms/step - loss: 5.5147e-06 - val_loss: 5.9494e-06\n",
      "Epoch 51/100\n",
      "207/207 [==============================] - 45s 217ms/step - loss: 8.3768e-06 - val_loss: 5.5175e-06\n",
      "Epoch 52/100\n",
      "207/207 [==============================] - 34s 164ms/step - loss: 5.2717e-06 - val_loss: 5.5249e-06\n",
      "Epoch 53/100\n",
      "207/207 [==============================] - 31s 150ms/step - loss: 5.3426e-06 - val_loss: 5.4464e-06\n",
      "Epoch 54/100\n",
      "207/207 [==============================] - 31s 149ms/step - loss: 5.8536e-06 - val_loss: 5.2869e-06\n",
      "Epoch 55/100\n",
      "207/207 [==============================] - 31s 149ms/step - loss: 5.6125e-06 - val_loss: 5.3674e-06\n",
      "Epoch 56/100\n",
      "207/207 [==============================] - 31s 148ms/step - loss: 5.2944e-06 - val_loss: 5.4651e-06\n",
      "Epoch 57/100\n",
      "207/207 [==============================] - 31s 150ms/step - loss: 5.2302e-06 - val_loss: 5.3156e-06\n",
      "Epoch 58/100\n",
      "207/207 [==============================] - 31s 150ms/step - loss: 6.9294e-06 - val_loss: 5.5796e-06\n",
      "Epoch 59/100\n",
      "207/207 [==============================] - 32s 153ms/step - loss: 5.1672e-06 - val_loss: 5.3729e-06\n",
      "Epoch 60/100\n",
      "207/207 [==============================] - 31s 150ms/step - loss: 5.8274e-06 - val_loss: 5.2601e-06\n",
      "Epoch 61/100\n",
      "207/207 [==============================] - 32s 152ms/step - loss: 5.1119e-06 - val_loss: 5.2129e-06\n",
      "Epoch 62/100\n",
      "207/207 [==============================] - 31s 148ms/step - loss: 5.7640e-06 - val_loss: 5.1438e-06\n",
      "Epoch 63/100\n",
      "207/207 [==============================] - 31s 150ms/step - loss: 5.7777e-06 - val_loss: 6.3714e-06\n",
      "Epoch 64/100\n",
      "207/207 [==============================] - 31s 149ms/step - loss: 5.3273e-06 - val_loss: 5.2852e-06\n",
      "Epoch 65/100\n",
      "207/207 [==============================] - 31s 148ms/step - loss: 5.1323e-06 - val_loss: 5.1987e-06\n",
      "Epoch 66/100\n",
      "207/207 [==============================] - 31s 152ms/step - loss: 5.0799e-06 - val_loss: 5.4419e-06\n",
      "Epoch 67/100\n",
      "207/207 [==============================] - 31s 151ms/step - loss: 6.2445e-06 - val_loss: 5.1932e-06\n",
      "Epoch 68/100\n",
      "207/207 [==============================] - 31s 148ms/step - loss: 5.2261e-06 - val_loss: 5.0888e-06\n",
      "Epoch 69/100\n",
      "207/207 [==============================] - 32s 153ms/step - loss: 4.9472e-06 - val_loss: 5.1720e-06\n",
      "Epoch 70/100\n",
      "207/207 [==============================] - 30s 145ms/step - loss: 7.2557e-06 - val_loss: 5.1200e-06\n",
      "Epoch 71/100\n",
      "207/207 [==============================] - 30s 145ms/step - loss: 4.8158e-06 - val_loss: 5.3899e-06\n",
      "Epoch 72/100\n",
      "207/207 [==============================] - 30s 146ms/step - loss: 4.9436e-06 - val_loss: 5.0741e-06\n",
      "Epoch 73/100\n",
      "207/207 [==============================] - 30s 147ms/step - loss: 4.8441e-06 - val_loss: 5.0769e-06\n",
      "Epoch 74/100\n",
      "207/207 [==============================] - 31s 150ms/step - loss: 7.0086e-06 - val_loss: 5.1947e-06\n",
      "Epoch 75/100\n",
      "207/207 [==============================] - 31s 147ms/step - loss: 4.7902e-06 - val_loss: 5.1718e-06\n",
      "Epoch 76/100\n",
      "207/207 [==============================] - 31s 148ms/step - loss: 5.1102e-06 - val_loss: 5.2418e-06\n",
      "Epoch 77/100\n",
      "207/207 [==============================] - 31s 150ms/step - loss: 5.0098e-06 - val_loss: 1.1586e-05\n",
      "Epoch 78/100\n",
      "207/207 [==============================] - 30s 145ms/step - loss: 5.3922e-06 - val_loss: 5.0380e-06\n",
      "Epoch 79/100\n",
      "207/207 [==============================] - 30s 146ms/step - loss: 4.8578e-06 - val_loss: 5.3343e-06\n",
      "Epoch 80/100\n",
      "207/207 [==============================] - 30s 145ms/step - loss: 5.8264e-06 - val_loss: 6.5139e-06\n",
      "Epoch 81/100\n",
      "207/207 [==============================] - 30s 147ms/step - loss: 4.8286e-06 - val_loss: 5.0545e-06\n",
      "Epoch 82/100\n",
      "207/207 [==============================] - 31s 149ms/step - loss: 4.9946e-06 - val_loss: 6.2764e-06\n",
      "Epoch 83/100\n",
      "207/207 [==============================] - 32s 153ms/step - loss: 4.9617e-06 - val_loss: 4.8559e-06\n",
      "Epoch 84/100\n",
      "207/207 [==============================] - 31s 151ms/step - loss: 4.7965e-06 - val_loss: 5.0327e-06\n",
      "Epoch 85/100\n",
      "207/207 [==============================] - 30s 147ms/step - loss: 6.2372e-06 - val_loss: 5.2368e-06\n",
      "Epoch 86/100\n",
      "207/207 [==============================] - 31s 149ms/step - loss: 4.6911e-06 - val_loss: 4.9228e-06\n",
      "Epoch 87/100\n",
      "207/207 [==============================] - 31s 148ms/step - loss: 4.7019e-06 - val_loss: 4.8663e-06\n",
      "Epoch 88/100\n",
      "207/207 [==============================] - 30s 146ms/step - loss: 4.6854e-06 - val_loss: 5.0491e-06\n",
      "Epoch 89/100\n",
      "207/207 [==============================] - 31s 151ms/step - loss: 5.9510e-06 - val_loss: 9.0834e-06\n",
      "Epoch 90/100\n",
      "207/207 [==============================] - 30s 147ms/step - loss: 5.0211e-06 - val_loss: 4.8415e-06\n",
      "Epoch 91/100\n",
      "207/207 [==============================] - 40s 193ms/step - loss: 4.9083e-06 - val_loss: 4.8333e-06\n",
      "Epoch 92/100\n",
      "207/207 [==============================] - 36s 172ms/step - loss: 4.6467e-06 - val_loss: 4.8949e-06\n",
      "Epoch 93/100\n",
      "207/207 [==============================] - 35s 167ms/step - loss: 5.2457e-06 - val_loss: 6.2416e-06\n",
      "Epoch 94/100\n",
      "207/207 [==============================] - 35s 169ms/step - loss: 4.8382e-06 - val_loss: 5.0756e-06\n",
      "Epoch 95/100\n",
      "207/207 [==============================] - 35s 170ms/step - loss: 4.7648e-06 - val_loss: 5.0927e-06\n",
      "Epoch 96/100\n",
      "207/207 [==============================] - 35s 168ms/step - loss: 5.8284e-06 - val_loss: 5.2827e-06\n",
      "Epoch 97/100\n",
      "207/207 [==============================] - 34s 166ms/step - loss: 4.6416e-06 - val_loss: 4.8545e-06\n",
      "Epoch 98/100\n",
      "207/207 [==============================] - 35s 169ms/step - loss: 5.0648e-06 - val_loss: 4.9495e-06\n",
      "Epoch 99/100\n",
      "207/207 [==============================] - 35s 167ms/step - loss: 4.6250e-06 - val_loss: 4.7997e-06\n",
      "Epoch 100/100\n",
      "207/207 [==============================] - 35s 168ms/step - loss: 4.6065e-06 - val_loss: 5.3283e-06\n"
     ]
    }
   ],
   "source": [
    "from keras.callbacks import TensorBoard\n",
    "#mse vs number of epoch (50-100)\n",
    "#plot mse for train and validation. both should converge\n",
    "#if the asymptote doesnt converge then make complex model\n",
    "model_fit = autoencoder.fit(x_train, x_train,\n",
    "                epochs = 100,\n",
    "                batch_size = 128,\n",
    "                shuffle = True,\n",
    "                validation_data = (x_test, x_test),\n",
    "                callbacks = [TensorBoard(log_dir = '/tmp/autoencoder'), early_stopping])\n"
   ]
  },
  {
   "cell_type": "markdown",
   "metadata": {},
   "source": [
    "### Visualize the reconstructed inputs and the encoded representations"
   ]
  },
  {
   "cell_type": "code",
   "execution_count": 19,
   "metadata": {},
   "outputs": [
    {
     "data": {
      "image/png": "[encoded data removed]",
      "text/plain": [
       "<Figure size 1440x288 with 20 Axes>"
      ]
     },
     "metadata": {
      "needs_background": "light"
     },
     "output_type": "display_data"
    }
   ],
   "source": [
    "import matplotlib.pylab as plt\n",
    "decoded_imgs = autoencoder.predict(x_test)\n",
    "\n",
    "n = 10\n",
    "plt.figure(figsize=(20, 4))\n",
    "for i in range(1, n + 1):\n",
    "    # Display original\n",
    "    ax = plt.subplot(2, n, i)\n",
    "    plt.imshow(x_test[i].reshape(50, 50))\n",
    "    plt.gray()\n",
    "    ax.get_xaxis().set_visible(False)\n",
    "    ax.get_yaxis().set_visible(False)\n",
    "\n",
    "    # Display reconstruction\n",
    "    ax = plt.subplot(2, n, i + n)\n",
    "    plt.imshow(decoded_imgs[i].reshape(50, 50))\n",
    "    plt.gray()\n",
    "    ax.get_xaxis().set_visible(False)\n",
    "    ax.get_yaxis().set_visible(False)\n",
    "plt.show()"
   ]
  },
  {
   "cell_type": "markdown",
   "metadata": {},
   "source": [
    "### Predict the pixel values of images at the bottle neck (after encoder)"
   ]
  },
  {
   "cell_type": "code",
   "execution_count": 20,
   "metadata": {},
   "outputs": [],
   "source": [
    "#Loading all the images from the relevant folder using the function defined earlier\n",
    "relevant_images = load_images_from_folder('Relevant Data/frames_162_relevant_v2')\n",
    "\n",
    "#Reshaping the pixel values of all the loaded images\n",
    "relevant_images = np.reshape((np.array(relevant_images).astype('float32') / 255.) , (len(relevant_images), 2500, 1))\n",
    "\n",
    "#Predicting the features at the bottle neck using the encoder_model defined earlier\n",
    "predicted_features_all = encoder_model.predict(relevant_images)"
   ]
  },
  {
   "cell_type": "code",
   "execution_count": 21,
   "metadata": {},
   "outputs": [
    {
     "data": {
      "text/plain": [
       "(33027, 10)"
      ]
     },
     "execution_count": 21,
     "metadata": {},
     "output_type": "execute_result"
    }
   ],
   "source": [
    "predicted_features_all.shape"
   ]
  },
  {
   "cell_type": "code",
   "execution_count": 22,
   "metadata": {},
   "outputs": [
    {
     "data": {
      "text/plain": [
       "(33027, 10)"
      ]
     },
     "execution_count": 22,
     "metadata": {},
     "output_type": "execute_result"
    }
   ],
   "source": [
    "reshaped_images_all = [b.reshape((-1)) for b in predicted_features_all]\n",
    "np.array(reshaped_images_all).shape"
   ]
  },
  {
   "cell_type": "markdown",
   "metadata": {},
   "source": [
    "### Grab the title of file names in the image folder"
   ]
  },
  {
   "cell_type": "code",
   "execution_count": 24,
   "metadata": {},
   "outputs": [],
   "source": [
    "import glob, re\n",
    "\n",
    "files = glob.glob('Relevant Data/frames_162_relevant_v2/*.png')\n",
    "a = []\n",
    "for file in files:\n",
    "    fName = re.findall(r'([^\\/]+)$', file)\n",
    "    a.append(fName)\n",
    "\n",
    "flat_list = []\n",
    "for sublist in a:\n",
    "    for item in sublist:\n",
    "        flat_list.append(item)       \n"
   ]
  },
  {
   "cell_type": "markdown",
   "metadata": {},
   "source": [
    "### Create dataframe for all the images in the folder and their respective features"
   ]
  },
  {
   "cell_type": "code",
   "execution_count": 25,
   "metadata": {},
   "outputs": [],
   "source": [
    "import pandas as pd\n",
    "column_label = []\n",
    "num = np.arange(1, 14074, 1)\n",
    "\n",
    "for i in range(len(flat_list)):\n",
    "    label = flat_list[i]\n",
    "    column_label = np.append(column_label, label)\n",
    "    \n",
    "df1 = pd.DataFrame(np.array(reshaped_images_all).T, columns = column_label)\n",
    "df1 = df1.T\n"
   ]
  },
  {
   "cell_type": "code",
   "execution_count": 26,
   "metadata": {},
   "outputs": [
    {
     "data": {
      "text/html": [
       "<div>\n",
       "<style scoped>\n",
       "    .dataframe tbody tr th:only-of-type {\n",
       "        vertical-align: middle;\n",
       "    }\n",
       "\n",
       "    .dataframe tbody tr th {\n",
       "        vertical-align: top;\n",
       "    }\n",
       "\n",
       "    .dataframe thead th {\n",
       "        text-align: right;\n",
       "    }\n",
       "</style>\n",
       "<table border=\"1\" class=\"dataframe\">\n",
       "  <thead>\n",
       "    <tr style=\"text-align: right;\">\n",
       "      <th></th>\n",
       "      <th>0</th>\n",
       "      <th>1</th>\n",
       "      <th>2</th>\n",
       "      <th>3</th>\n",
       "      <th>4</th>\n",
       "      <th>5</th>\n",
       "      <th>6</th>\n",
       "      <th>7</th>\n",
       "      <th>8</th>\n",
       "      <th>9</th>\n",
       "    </tr>\n",
       "  </thead>\n",
       "  <tbody>\n",
       "    <tr>\n",
       "      <th>video161_frame662134.png</th>\n",
       "      <td>0.255162</td>\n",
       "      <td>0.245263</td>\n",
       "      <td>0.223576</td>\n",
       "      <td>0.249077</td>\n",
       "      <td>0.319740</td>\n",
       "      <td>0.155845</td>\n",
       "      <td>0.461245</td>\n",
       "      <td>0.169006</td>\n",
       "      <td>0.357514</td>\n",
       "      <td>0.231576</td>\n",
       "    </tr>\n",
       "    <tr>\n",
       "      <th>video161_frame655798.png</th>\n",
       "      <td>0.440594</td>\n",
       "      <td>0.488265</td>\n",
       "      <td>0.410015</td>\n",
       "      <td>0.458151</td>\n",
       "      <td>0.471854</td>\n",
       "      <td>0.423319</td>\n",
       "      <td>0.328515</td>\n",
       "      <td>0.283595</td>\n",
       "      <td>0.373401</td>\n",
       "      <td>0.452606</td>\n",
       "    </tr>\n",
       "    <tr>\n",
       "      <th>video161_frame644695.png</th>\n",
       "      <td>0.366693</td>\n",
       "      <td>0.497431</td>\n",
       "      <td>0.370108</td>\n",
       "      <td>0.441240</td>\n",
       "      <td>0.397562</td>\n",
       "      <td>0.442910</td>\n",
       "      <td>0.250769</td>\n",
       "      <td>0.415994</td>\n",
       "      <td>0.382741</td>\n",
       "      <td>0.488046</td>\n",
       "    </tr>\n",
       "    <tr>\n",
       "      <th>video161_frame655940.png</th>\n",
       "      <td>0.380915</td>\n",
       "      <td>0.496629</td>\n",
       "      <td>0.266465</td>\n",
       "      <td>0.498488</td>\n",
       "      <td>0.361204</td>\n",
       "      <td>0.224087</td>\n",
       "      <td>0.380120</td>\n",
       "      <td>0.329619</td>\n",
       "      <td>0.408757</td>\n",
       "      <td>0.379090</td>\n",
       "    </tr>\n",
       "    <tr>\n",
       "      <th>video161_frame664545.png</th>\n",
       "      <td>0.312560</td>\n",
       "      <td>0.393383</td>\n",
       "      <td>0.275128</td>\n",
       "      <td>0.274985</td>\n",
       "      <td>0.275334</td>\n",
       "      <td>0.248545</td>\n",
       "      <td>0.308189</td>\n",
       "      <td>0.276191</td>\n",
       "      <td>0.351740</td>\n",
       "      <td>0.356569</td>\n",
       "    </tr>\n",
       "    <tr>\n",
       "      <th>...</th>\n",
       "      <td>...</td>\n",
       "      <td>...</td>\n",
       "      <td>...</td>\n",
       "      <td>...</td>\n",
       "      <td>...</td>\n",
       "      <td>...</td>\n",
       "      <td>...</td>\n",
       "      <td>...</td>\n",
       "      <td>...</td>\n",
       "      <td>...</td>\n",
       "    </tr>\n",
       "    <tr>\n",
       "      <th>video181_frame295904.png</th>\n",
       "      <td>0.384612</td>\n",
       "      <td>0.514997</td>\n",
       "      <td>0.566778</td>\n",
       "      <td>0.455904</td>\n",
       "      <td>0.475188</td>\n",
       "      <td>0.564979</td>\n",
       "      <td>0.222736</td>\n",
       "      <td>0.477982</td>\n",
       "      <td>0.266922</td>\n",
       "      <td>0.519726</td>\n",
       "    </tr>\n",
       "    <tr>\n",
       "      <th>video161_frame655959.png</th>\n",
       "      <td>0.520380</td>\n",
       "      <td>0.385288</td>\n",
       "      <td>0.312217</td>\n",
       "      <td>0.465830</td>\n",
       "      <td>0.381034</td>\n",
       "      <td>0.347372</td>\n",
       "      <td>0.418242</td>\n",
       "      <td>0.189612</td>\n",
       "      <td>0.434343</td>\n",
       "      <td>0.398856</td>\n",
       "    </tr>\n",
       "    <tr>\n",
       "      <th>video161_frame663233.png</th>\n",
       "      <td>0.383745</td>\n",
       "      <td>0.336194</td>\n",
       "      <td>0.343801</td>\n",
       "      <td>0.307135</td>\n",
       "      <td>0.305072</td>\n",
       "      <td>0.273043</td>\n",
       "      <td>0.318665</td>\n",
       "      <td>0.246479</td>\n",
       "      <td>0.358543</td>\n",
       "      <td>0.398736</td>\n",
       "    </tr>\n",
       "    <tr>\n",
       "      <th>video161_frame644854.png</th>\n",
       "      <td>0.371755</td>\n",
       "      <td>0.490334</td>\n",
       "      <td>0.395233</td>\n",
       "      <td>0.393618</td>\n",
       "      <td>0.403371</td>\n",
       "      <td>0.496803</td>\n",
       "      <td>0.237250</td>\n",
       "      <td>0.358582</td>\n",
       "      <td>0.363974</td>\n",
       "      <td>0.471749</td>\n",
       "    </tr>\n",
       "    <tr>\n",
       "      <th>video161_frame655781.png</th>\n",
       "      <td>0.413211</td>\n",
       "      <td>0.461686</td>\n",
       "      <td>0.350040</td>\n",
       "      <td>0.356218</td>\n",
       "      <td>0.439025</td>\n",
       "      <td>0.370583</td>\n",
       "      <td>0.252468</td>\n",
       "      <td>0.292049</td>\n",
       "      <td>0.395654</td>\n",
       "      <td>0.469241</td>\n",
       "    </tr>\n",
       "  </tbody>\n",
       "</table>\n",
       "<p>33027 rows × 10 columns</p>\n",
       "</div>"
      ],
      "text/plain": [
       "                                 0         1         2         3         4  \\\n",
       "video161_frame662134.png  0.255162  0.245263  0.223576  0.249077  0.319740   \n",
       "video161_frame655798.png  0.440594  0.488265  0.410015  0.458151  0.471854   \n",
       "video161_frame644695.png  0.366693  0.497431  0.370108  0.441240  0.397562   \n",
       "video161_frame655940.png  0.380915  0.496629  0.266465  0.498488  0.361204   \n",
       "video161_frame664545.png  0.312560  0.393383  0.275128  0.274985  0.275334   \n",
       "...                            ...       ...       ...       ...       ...   \n",
       "video181_frame295904.png  0.384612  0.514997  0.566778  0.455904  0.475188   \n",
       "video161_frame655959.png  0.520380  0.385288  0.312217  0.465830  0.381034   \n",
       "video161_frame663233.png  0.383745  0.336194  0.343801  0.307135  0.305072   \n",
       "video161_frame644854.png  0.371755  0.490334  0.395233  0.393618  0.403371   \n",
       "video161_frame655781.png  0.413211  0.461686  0.350040  0.356218  0.439025   \n",
       "\n",
       "                                 5         6         7         8         9  \n",
       "video161_frame662134.png  0.155845  0.461245  0.169006  0.357514  0.231576  \n",
       "video161_frame655798.png  0.423319  0.328515  0.283595  0.373401  0.452606  \n",
       "video161_frame644695.png  0.442910  0.250769  0.415994  0.382741  0.488046  \n",
       "video161_frame655940.png  0.224087  0.380120  0.329619  0.408757  0.379090  \n",
       "video161_frame664545.png  0.248545  0.308189  0.276191  0.351740  0.356569  \n",
       "...                            ...       ...       ...       ...       ...  \n",
       "video181_frame295904.png  0.564979  0.222736  0.477982  0.266922  0.519726  \n",
       "video161_frame655959.png  0.347372  0.418242  0.189612  0.434343  0.398856  \n",
       "video161_frame663233.png  0.273043  0.318665  0.246479  0.358543  0.398736  \n",
       "video161_frame644854.png  0.496803  0.237250  0.358582  0.363974  0.471749  \n",
       "video161_frame655781.png  0.370583  0.252468  0.292049  0.395654  0.469241  \n",
       "\n",
       "[33027 rows x 10 columns]"
      ]
     },
     "execution_count": 26,
     "metadata": {},
     "output_type": "execute_result"
    }
   ],
   "source": [
    "df1.to_csv('new_features_autoencoder_182_and_162.csv')\n",
    "df1"
   ]
  },
  {
   "cell_type": "code",
   "execution_count": null,
   "metadata": {},
   "outputs": [],
   "source": []
  }
 ],
 "metadata": {
  "kernelspec": {
   "display_name": "Python 3",
   "language": "python",
   "name": "python3"
  },
  "language_info": {
   "codemirror_mode": {
    "name": "ipython",
    "version": 3
   },
   "file_extension": ".py",
   "mimetype": "text/x-python",
   "name": "python",
   "nbconvert_exporter": "python",
   "pygments_lexer": "ipython3",
   "version": "3.8.3"
  }
 },
 "nbformat": 4,
 "nbformat_minor": 4
}
