{
 "cells": [
  {
   "cell_type": "markdown",
   "metadata": {},
   "source": [
    "# Metal 3D Printing Model\n",
    "### *With autoencoder data for both layers*"
   ]
  },
  {
   "cell_type": "code",
   "execution_count": 8,
   "metadata": {},
   "outputs": [
    {
     "data": {
      "text/html": [
       "<div>\n",
       "<style scoped>\n",
       "    .dataframe tbody tr th:only-of-type {\n",
       "        vertical-align: middle;\n",
       "    }\n",
       "\n",
       "    .dataframe tbody tr th {\n",
       "        vertical-align: top;\n",
       "    }\n",
       "\n",
       "    .dataframe thead th {\n",
       "        text-align: right;\n",
       "    }\n",
       "</style>\n",
       "<table border=\"1\" class=\"dataframe\">\n",
       "  <thead>\n",
       "    <tr style=\"text-align: right;\">\n",
       "      <th></th>\n",
       "      <th>SN</th>\n",
       "      <th>DoE</th>\n",
       "      <th>Block</th>\n",
       "      <th>Stripe</th>\n",
       "      <th>LASER_POWER_POLY</th>\n",
       "      <th>LASER_SPEED_POLY</th>\n",
       "      <th>LASER_SPOT_POLY</th>\n",
       "      <th>Height</th>\n",
       "      <th>Depth</th>\n",
       "      <th>Width</th>\n",
       "      <th>TotalHeight</th>\n",
       "    </tr>\n",
       "  </thead>\n",
       "  <tbody>\n",
       "    <tr>\n",
       "      <th>0</th>\n",
       "      <td>BOP02_12_1</td>\n",
       "      <td>BOP02</td>\n",
       "      <td>12</td>\n",
       "      <td>1</td>\n",
       "      <td>370</td>\n",
       "      <td>1000</td>\n",
       "      <td>0.180</td>\n",
       "      <td>86.944229</td>\n",
       "      <td>73.613533</td>\n",
       "      <td>144.577911</td>\n",
       "      <td>160.557762</td>\n",
       "    </tr>\n",
       "    <tr>\n",
       "      <th>1</th>\n",
       "      <td>BOP02_12_2</td>\n",
       "      <td>BOP02</td>\n",
       "      <td>12</td>\n",
       "      <td>2</td>\n",
       "      <td>370</td>\n",
       "      <td>1000</td>\n",
       "      <td>0.180</td>\n",
       "      <td>58.591248</td>\n",
       "      <td>73.769890</td>\n",
       "      <td>127.483208</td>\n",
       "      <td>132.361137</td>\n",
       "    </tr>\n",
       "    <tr>\n",
       "      <th>2</th>\n",
       "      <td>BOP02_12_3</td>\n",
       "      <td>BOP02</td>\n",
       "      <td>12</td>\n",
       "      <td>3</td>\n",
       "      <td>370</td>\n",
       "      <td>1000</td>\n",
       "      <td>0.180</td>\n",
       "      <td>91.636681</td>\n",
       "      <td>75.602501</td>\n",
       "      <td>150.029678</td>\n",
       "      <td>167.239182</td>\n",
       "    </tr>\n",
       "    <tr>\n",
       "      <th>3</th>\n",
       "      <td>BOP02_13_1</td>\n",
       "      <td>BOP02</td>\n",
       "      <td>13</td>\n",
       "      <td>1</td>\n",
       "      <td>370</td>\n",
       "      <td>1000</td>\n",
       "      <td>0.180</td>\n",
       "      <td>88.413681</td>\n",
       "      <td>83.070961</td>\n",
       "      <td>155.287918</td>\n",
       "      <td>171.484642</td>\n",
       "    </tr>\n",
       "    <tr>\n",
       "      <th>4</th>\n",
       "      <td>BOP02_13_2</td>\n",
       "      <td>BOP02</td>\n",
       "      <td>13</td>\n",
       "      <td>2</td>\n",
       "      <td>370</td>\n",
       "      <td>1000</td>\n",
       "      <td>0.180</td>\n",
       "      <td>134.644165</td>\n",
       "      <td>59.806252</td>\n",
       "      <td>140.760055</td>\n",
       "      <td>194.450417</td>\n",
       "    </tr>\n",
       "    <tr>\n",
       "      <th>...</th>\n",
       "      <td>...</td>\n",
       "      <td>...</td>\n",
       "      <td>...</td>\n",
       "      <td>...</td>\n",
       "      <td>...</td>\n",
       "      <td>...</td>\n",
       "      <td>...</td>\n",
       "      <td>...</td>\n",
       "      <td>...</td>\n",
       "      <td>...</td>\n",
       "      <td>...</td>\n",
       "    </tr>\n",
       "    <tr>\n",
       "      <th>267</th>\n",
       "      <td>BOP02_22_6</td>\n",
       "      <td>BOP02</td>\n",
       "      <td>22</td>\n",
       "      <td>6</td>\n",
       "      <td>190</td>\n",
       "      <td>241</td>\n",
       "      <td>0.125</td>\n",
       "      <td>74.841255</td>\n",
       "      <td>349.744171</td>\n",
       "      <td>240.536469</td>\n",
       "      <td>424.585426</td>\n",
       "    </tr>\n",
       "    <tr>\n",
       "      <th>268</th>\n",
       "      <td>BOP02_22_9</td>\n",
       "      <td>BOP02</td>\n",
       "      <td>22</td>\n",
       "      <td>9</td>\n",
       "      <td>362</td>\n",
       "      <td>1134</td>\n",
       "      <td>0.135</td>\n",
       "      <td>56.144547</td>\n",
       "      <td>144.577911</td>\n",
       "      <td>129.981232</td>\n",
       "      <td>200.722458</td>\n",
       "    </tr>\n",
       "    <tr>\n",
       "      <th>269</th>\n",
       "      <td>BOP02_22_10</td>\n",
       "      <td>BOP02</td>\n",
       "      <td>22</td>\n",
       "      <td>10</td>\n",
       "      <td>362</td>\n",
       "      <td>1134</td>\n",
       "      <td>0.135</td>\n",
       "      <td>60.375683</td>\n",
       "      <td>147.160645</td>\n",
       "      <td>137.337494</td>\n",
       "      <td>207.536327</td>\n",
       "    </tr>\n",
       "    <tr>\n",
       "      <th>270</th>\n",
       "      <td>BOP02_22_23</td>\n",
       "      <td>BOP02</td>\n",
       "      <td>22</td>\n",
       "      <td>23</td>\n",
       "      <td>362</td>\n",
       "      <td>376</td>\n",
       "      <td>0.125</td>\n",
       "      <td>66.899353</td>\n",
       "      <td>565.748047</td>\n",
       "      <td>187.858795</td>\n",
       "      <td>632.647400</td>\n",
       "    </tr>\n",
       "    <tr>\n",
       "      <th>271</th>\n",
       "      <td>BOP02_22_24</td>\n",
       "      <td>BOP02</td>\n",
       "      <td>22</td>\n",
       "      <td>24</td>\n",
       "      <td>362</td>\n",
       "      <td>376</td>\n",
       "      <td>0.125</td>\n",
       "      <td>81.962341</td>\n",
       "      <td>527.219238</td>\n",
       "      <td>183.025528</td>\n",
       "      <td>609.181580</td>\n",
       "    </tr>\n",
       "  </tbody>\n",
       "</table>\n",
       "<p>272 rows × 11 columns</p>\n",
       "</div>"
      ],
      "text/plain": [
       "              SN    DoE  Block  Stripe  LASER_POWER_POLY  LASER_SPEED_POLY  \\\n",
       "0     BOP02_12_1  BOP02     12       1               370              1000   \n",
       "1     BOP02_12_2  BOP02     12       2               370              1000   \n",
       "2     BOP02_12_3  BOP02     12       3               370              1000   \n",
       "3     BOP02_13_1  BOP02     13       1               370              1000   \n",
       "4     BOP02_13_2  BOP02     13       2               370              1000   \n",
       "..           ...    ...    ...     ...               ...               ...   \n",
       "267   BOP02_22_6  BOP02     22       6               190               241   \n",
       "268   BOP02_22_9  BOP02     22       9               362              1134   \n",
       "269  BOP02_22_10  BOP02     22      10               362              1134   \n",
       "270  BOP02_22_23  BOP02     22      23               362               376   \n",
       "271  BOP02_22_24  BOP02     22      24               362               376   \n",
       "\n",
       "     LASER_SPOT_POLY      Height       Depth       Width  TotalHeight  \n",
       "0              0.180   86.944229   73.613533  144.577911   160.557762  \n",
       "1              0.180   58.591248   73.769890  127.483208   132.361137  \n",
       "2              0.180   91.636681   75.602501  150.029678   167.239182  \n",
       "3              0.180   88.413681   83.070961  155.287918   171.484642  \n",
       "4              0.180  134.644165   59.806252  140.760055   194.450417  \n",
       "..               ...         ...         ...         ...          ...  \n",
       "267            0.125   74.841255  349.744171  240.536469   424.585426  \n",
       "268            0.135   56.144547  144.577911  129.981232   200.722458  \n",
       "269            0.135   60.375683  147.160645  137.337494   207.536327  \n",
       "270            0.125   66.899353  565.748047  187.858795   632.647400  \n",
       "271            0.125   81.962341  527.219238  183.025528   609.181580  \n",
       "\n",
       "[272 rows x 11 columns]"
      ]
     },
     "execution_count": 8,
     "metadata": {},
     "output_type": "execute_result"
    }
   ],
   "source": [
    "import pandas as pd\n",
    "import numpy as np\n",
    "import matplotlib.pyplot as plt\n",
    "\n",
    "file_path='../Data/BoP02 Analysis KP_SCedit0306.csv'\n",
    "data=pd.read_csv(file_path)\n",
    "data"
   ]
  },
  {
   "cell_type": "markdown",
   "metadata": {},
   "source": [
    "## Import data"
   ]
  },
  {
   "cell_type": "code",
   "execution_count": 9,
   "metadata": {
    "scrolled": false
   },
   "outputs": [
    {
     "data": {
      "text/html": [
       "<div>\n",
       "<style scoped>\n",
       "    .dataframe tbody tr th:only-of-type {\n",
       "        vertical-align: middle;\n",
       "    }\n",
       "\n",
       "    .dataframe tbody tr th {\n",
       "        vertical-align: top;\n",
       "    }\n",
       "\n",
       "    .dataframe thead th {\n",
       "        text-align: right;\n",
       "    }\n",
       "</style>\n",
       "<table border=\"1\" class=\"dataframe\">\n",
       "  <thead>\n",
       "    <tr style=\"text-align: right;\">\n",
       "      <th></th>\n",
       "      <th>Frame_Index</th>\n",
       "      <th>tdms_index</th>\n",
       "      <th>Layer</th>\n",
       "      <th>x</th>\n",
       "      <th>y</th>\n",
       "      <th>apd</th>\n",
       "      <th>LaserOn</th>\n",
       "      <th>change_bool</th>\n",
       "      <th>LineIndex</th>\n",
       "      <th>LineID</th>\n",
       "      <th>...</th>\n",
       "      <th>encoder_0</th>\n",
       "      <th>encoder_1</th>\n",
       "      <th>encoder_2</th>\n",
       "      <th>encoder_3</th>\n",
       "      <th>encoder_4</th>\n",
       "      <th>encoder_5</th>\n",
       "      <th>encoder_6</th>\n",
       "      <th>encoder_7</th>\n",
       "      <th>encoder_8</th>\n",
       "      <th>encoder_9</th>\n",
       "    </tr>\n",
       "  </thead>\n",
       "  <tbody>\n",
       "    <tr>\n",
       "      <th>0</th>\n",
       "      <td>0</td>\n",
       "      <td>639002</td>\n",
       "      <td>162</td>\n",
       "      <td>798</td>\n",
       "      <td>1756</td>\n",
       "      <td>1688</td>\n",
       "      <td>1</td>\n",
       "      <td>1</td>\n",
       "      <td>5554</td>\n",
       "      <td>1</td>\n",
       "      <td>...</td>\n",
       "      <td>0.126472</td>\n",
       "      <td>0.124965</td>\n",
       "      <td>0.202442</td>\n",
       "      <td>0.122546</td>\n",
       "      <td>0.267214</td>\n",
       "      <td>0.187425</td>\n",
       "      <td>0.483032</td>\n",
       "      <td>0.135109</td>\n",
       "      <td>0.171343</td>\n",
       "      <td>0.168408</td>\n",
       "    </tr>\n",
       "    <tr>\n",
       "      <th>1</th>\n",
       "      <td>1</td>\n",
       "      <td>639003</td>\n",
       "      <td>162</td>\n",
       "      <td>833</td>\n",
       "      <td>1759</td>\n",
       "      <td>2399</td>\n",
       "      <td>1</td>\n",
       "      <td>0</td>\n",
       "      <td>5554</td>\n",
       "      <td>1</td>\n",
       "      <td>...</td>\n",
       "      <td>0.414566</td>\n",
       "      <td>0.252620</td>\n",
       "      <td>0.386618</td>\n",
       "      <td>0.365045</td>\n",
       "      <td>0.128948</td>\n",
       "      <td>0.145017</td>\n",
       "      <td>0.284230</td>\n",
       "      <td>0.477547</td>\n",
       "      <td>0.239621</td>\n",
       "      <td>0.214533</td>\n",
       "    </tr>\n",
       "    <tr>\n",
       "      <th>2</th>\n",
       "      <td>2</td>\n",
       "      <td>639004</td>\n",
       "      <td>162</td>\n",
       "      <td>867</td>\n",
       "      <td>1762</td>\n",
       "      <td>3058</td>\n",
       "      <td>1</td>\n",
       "      <td>0</td>\n",
       "      <td>5554</td>\n",
       "      <td>1</td>\n",
       "      <td>...</td>\n",
       "      <td>0.403801</td>\n",
       "      <td>0.295532</td>\n",
       "      <td>0.375750</td>\n",
       "      <td>0.415691</td>\n",
       "      <td>0.109082</td>\n",
       "      <td>0.198924</td>\n",
       "      <td>0.275004</td>\n",
       "      <td>0.539477</td>\n",
       "      <td>0.338243</td>\n",
       "      <td>0.300042</td>\n",
       "    </tr>\n",
       "    <tr>\n",
       "      <th>3</th>\n",
       "      <td>3</td>\n",
       "      <td>639005</td>\n",
       "      <td>162</td>\n",
       "      <td>901</td>\n",
       "      <td>1765</td>\n",
       "      <td>2942</td>\n",
       "      <td>1</td>\n",
       "      <td>0</td>\n",
       "      <td>5554</td>\n",
       "      <td>1</td>\n",
       "      <td>...</td>\n",
       "      <td>0.478218</td>\n",
       "      <td>0.257299</td>\n",
       "      <td>0.455102</td>\n",
       "      <td>0.329200</td>\n",
       "      <td>0.102793</td>\n",
       "      <td>0.288820</td>\n",
       "      <td>0.279632</td>\n",
       "      <td>0.566580</td>\n",
       "      <td>0.224948</td>\n",
       "      <td>0.269998</td>\n",
       "    </tr>\n",
       "    <tr>\n",
       "      <th>4</th>\n",
       "      <td>4</td>\n",
       "      <td>639006</td>\n",
       "      <td>162</td>\n",
       "      <td>936</td>\n",
       "      <td>1768</td>\n",
       "      <td>2567</td>\n",
       "      <td>1</td>\n",
       "      <td>0</td>\n",
       "      <td>5554</td>\n",
       "      <td>1</td>\n",
       "      <td>...</td>\n",
       "      <td>0.370758</td>\n",
       "      <td>0.314398</td>\n",
       "      <td>0.409091</td>\n",
       "      <td>0.456760</td>\n",
       "      <td>0.098356</td>\n",
       "      <td>0.131032</td>\n",
       "      <td>0.263523</td>\n",
       "      <td>0.479126</td>\n",
       "      <td>0.239580</td>\n",
       "      <td>0.295296</td>\n",
       "    </tr>\n",
       "    <tr>\n",
       "      <th>...</th>\n",
       "      <td>...</td>\n",
       "      <td>...</td>\n",
       "      <td>...</td>\n",
       "      <td>...</td>\n",
       "      <td>...</td>\n",
       "      <td>...</td>\n",
       "      <td>...</td>\n",
       "      <td>...</td>\n",
       "      <td>...</td>\n",
       "      <td>...</td>\n",
       "      <td>...</td>\n",
       "      <td>...</td>\n",
       "      <td>...</td>\n",
       "      <td>...</td>\n",
       "      <td>...</td>\n",
       "      <td>...</td>\n",
       "      <td>...</td>\n",
       "      <td>...</td>\n",
       "      <td>...</td>\n",
       "      <td>...</td>\n",
       "      <td>...</td>\n",
       "    </tr>\n",
       "    <tr>\n",
       "      <th>56075</th>\n",
       "      <td>29685</td>\n",
       "      <td>317914</td>\n",
       "      <td>182</td>\n",
       "      <td>16882</td>\n",
       "      <td>-210</td>\n",
       "      <td>-14</td>\n",
       "      <td>0</td>\n",
       "      <td>0</td>\n",
       "      <td>2591</td>\n",
       "      <td>34</td>\n",
       "      <td>...</td>\n",
       "      <td>NaN</td>\n",
       "      <td>NaN</td>\n",
       "      <td>NaN</td>\n",
       "      <td>NaN</td>\n",
       "      <td>NaN</td>\n",
       "      <td>NaN</td>\n",
       "      <td>NaN</td>\n",
       "      <td>NaN</td>\n",
       "      <td>NaN</td>\n",
       "      <td>NaN</td>\n",
       "    </tr>\n",
       "    <tr>\n",
       "      <th>56076</th>\n",
       "      <td>29686</td>\n",
       "      <td>317915</td>\n",
       "      <td>182</td>\n",
       "      <td>16882</td>\n",
       "      <td>-210</td>\n",
       "      <td>-16</td>\n",
       "      <td>0</td>\n",
       "      <td>0</td>\n",
       "      <td>2591</td>\n",
       "      <td>34</td>\n",
       "      <td>...</td>\n",
       "      <td>NaN</td>\n",
       "      <td>NaN</td>\n",
       "      <td>NaN</td>\n",
       "      <td>NaN</td>\n",
       "      <td>NaN</td>\n",
       "      <td>NaN</td>\n",
       "      <td>NaN</td>\n",
       "      <td>NaN</td>\n",
       "      <td>NaN</td>\n",
       "      <td>NaN</td>\n",
       "    </tr>\n",
       "    <tr>\n",
       "      <th>56077</th>\n",
       "      <td>29687</td>\n",
       "      <td>317916</td>\n",
       "      <td>182</td>\n",
       "      <td>16882</td>\n",
       "      <td>-210</td>\n",
       "      <td>-11</td>\n",
       "      <td>0</td>\n",
       "      <td>0</td>\n",
       "      <td>2591</td>\n",
       "      <td>34</td>\n",
       "      <td>...</td>\n",
       "      <td>NaN</td>\n",
       "      <td>NaN</td>\n",
       "      <td>NaN</td>\n",
       "      <td>NaN</td>\n",
       "      <td>NaN</td>\n",
       "      <td>NaN</td>\n",
       "      <td>NaN</td>\n",
       "      <td>NaN</td>\n",
       "      <td>NaN</td>\n",
       "      <td>NaN</td>\n",
       "    </tr>\n",
       "    <tr>\n",
       "      <th>56078</th>\n",
       "      <td>29688</td>\n",
       "      <td>317917</td>\n",
       "      <td>182</td>\n",
       "      <td>16882</td>\n",
       "      <td>-210</td>\n",
       "      <td>-17</td>\n",
       "      <td>0</td>\n",
       "      <td>0</td>\n",
       "      <td>2591</td>\n",
       "      <td>34</td>\n",
       "      <td>...</td>\n",
       "      <td>NaN</td>\n",
       "      <td>NaN</td>\n",
       "      <td>NaN</td>\n",
       "      <td>NaN</td>\n",
       "      <td>NaN</td>\n",
       "      <td>NaN</td>\n",
       "      <td>NaN</td>\n",
       "      <td>NaN</td>\n",
       "      <td>NaN</td>\n",
       "      <td>NaN</td>\n",
       "    </tr>\n",
       "    <tr>\n",
       "      <th>56079</th>\n",
       "      <td>29689</td>\n",
       "      <td>317918</td>\n",
       "      <td>182</td>\n",
       "      <td>16882</td>\n",
       "      <td>-210</td>\n",
       "      <td>2</td>\n",
       "      <td>0</td>\n",
       "      <td>0</td>\n",
       "      <td>2591</td>\n",
       "      <td>34</td>\n",
       "      <td>...</td>\n",
       "      <td>NaN</td>\n",
       "      <td>NaN</td>\n",
       "      <td>NaN</td>\n",
       "      <td>NaN</td>\n",
       "      <td>NaN</td>\n",
       "      <td>NaN</td>\n",
       "      <td>NaN</td>\n",
       "      <td>NaN</td>\n",
       "      <td>NaN</td>\n",
       "      <td>NaN</td>\n",
       "    </tr>\n",
       "  </tbody>\n",
       "</table>\n",
       "<p>56080 rows × 337 columns</p>\n",
       "</div>"
      ],
      "text/plain": [
       "       Frame_Index  tdms_index  Layer      x     y   apd  LaserOn  \\\n",
       "0                0      639002    162    798  1756  1688        1   \n",
       "1                1      639003    162    833  1759  2399        1   \n",
       "2                2      639004    162    867  1762  3058        1   \n",
       "3                3      639005    162    901  1765  2942        1   \n",
       "4                4      639006    162    936  1768  2567        1   \n",
       "...            ...         ...    ...    ...   ...   ...      ...   \n",
       "56075        29685      317914    182  16882  -210   -14        0   \n",
       "56076        29686      317915    182  16882  -210   -16        0   \n",
       "56077        29687      317916    182  16882  -210   -11        0   \n",
       "56078        29688      317917    182  16882  -210   -17        0   \n",
       "56079        29689      317918    182  16882  -210     2        0   \n",
       "\n",
       "       change_bool  LineIndex  LineID  ...  encoder_0  encoder_1  encoder_2  \\\n",
       "0                1       5554       1  ...   0.126472   0.124965   0.202442   \n",
       "1                0       5554       1  ...   0.414566   0.252620   0.386618   \n",
       "2                0       5554       1  ...   0.403801   0.295532   0.375750   \n",
       "3                0       5554       1  ...   0.478218   0.257299   0.455102   \n",
       "4                0       5554       1  ...   0.370758   0.314398   0.409091   \n",
       "...            ...        ...     ...  ...        ...        ...        ...   \n",
       "56075            0       2591      34  ...        NaN        NaN        NaN   \n",
       "56076            0       2591      34  ...        NaN        NaN        NaN   \n",
       "56077            0       2591      34  ...        NaN        NaN        NaN   \n",
       "56078            0       2591      34  ...        NaN        NaN        NaN   \n",
       "56079            0       2591      34  ...        NaN        NaN        NaN   \n",
       "\n",
       "       encoder_3  encoder_4  encoder_5  encoder_6 encoder_7  encoder_8  \\\n",
       "0       0.122546   0.267214   0.187425   0.483032  0.135109   0.171343   \n",
       "1       0.365045   0.128948   0.145017   0.284230  0.477547   0.239621   \n",
       "2       0.415691   0.109082   0.198924   0.275004  0.539477   0.338243   \n",
       "3       0.329200   0.102793   0.288820   0.279632  0.566580   0.224948   \n",
       "4       0.456760   0.098356   0.131032   0.263523  0.479126   0.239580   \n",
       "...          ...        ...        ...        ...       ...        ...   \n",
       "56075        NaN        NaN        NaN        NaN       NaN        NaN   \n",
       "56076        NaN        NaN        NaN        NaN       NaN        NaN   \n",
       "56077        NaN        NaN        NaN        NaN       NaN        NaN   \n",
       "56078        NaN        NaN        NaN        NaN       NaN        NaN   \n",
       "56079        NaN        NaN        NaN        NaN       NaN        NaN   \n",
       "\n",
       "       encoder_9  \n",
       "0       0.168408  \n",
       "1       0.214533  \n",
       "2       0.300042  \n",
       "3       0.269998  \n",
       "4       0.295296  \n",
       "...          ...  \n",
       "56075        NaN  \n",
       "56076        NaN  \n",
       "56077        NaN  \n",
       "56078        NaN  \n",
       "56079        NaN  \n",
       "\n",
       "[56080 rows x 337 columns]"
      ]
     },
     "execution_count": 9,
     "metadata": {},
     "output_type": "execute_result"
    }
   ],
   "source": [
    "file_path_162_182='../Data/162_and_182_complete_v11_all_previos_plus_autoencoder.csv'\n",
    "data_162_182=pd.read_csv(file_path_162_182,low_memory=False)#56080 rows × 337 columns\n",
    "data_162_182"
   ]
  },
  {
   "cell_type": "code",
   "execution_count": 10,
   "metadata": {
    "scrolled": true
   },
   "outputs": [
    {
     "name": "stdout",
     "output_type": "stream",
     "text": [
      "Frame_Index\n",
      "tdms_index\n",
      "Layer\n",
      "x\n",
      "y\n",
      "apd\n",
      "LaserOn\n",
      "change_bool\n",
      "LineIndex\n",
      "LineID\n",
      "BlockID\n",
      "Frame_Index.1\n",
      "Area_countour_5\n",
      "Area_npixels_5\n",
      "Mean_5\n",
      "Sum_5\n",
      "Radius_5\n",
      "Rotated_Box_5\n",
      "Rotated_Box_side1_5\n",
      "Rotated_Box_side2_5\n",
      "Rotated_Box_area_5\n",
      "Rotated_Box_angle_5\n",
      "Rotated_Box_center_row_5\n",
      "Rotated_Box_center_col_5\n",
      "Ellipse_axis1_5\n",
      "Ellipse_axis2_5\n",
      "Ellipse_area_5\n",
      "Ellipse_angle_5\n",
      "Ellipse_center_row_5\n",
      "Ellipse_center_col_5\n",
      "Ratio_Area_npixels_rect_5\n",
      "Ratio_Area_npixels_circle_5\n",
      "Ratio_Area_npixels_ellipse_5\n",
      "Area_countour_10\n",
      "Area_npixels_10\n",
      "Mean_10\n",
      "Sum_10\n",
      "Radius_10\n",
      "Rotated_Box_10\n",
      "Rotated_Box_side1_10\n",
      "Rotated_Box_side2_10\n",
      "Rotated_Box_area_10\n",
      "Rotated_Box_angle_10\n",
      "Rotated_Box_center_row_10\n",
      "Rotated_Box_center_col_10\n",
      "Ellipse_axis1_10\n",
      "Ellipse_axis2_10\n",
      "Ellipse_area_10\n",
      "Ellipse_angle_10\n",
      "Ellipse_center_row_10\n",
      "Ellipse_center_col_10\n",
      "Ratio_Area_npixels_rect_10\n",
      "Ratio_Area_npixels_circle_10\n",
      "Ratio_Area_npixels_ellipse_10\n",
      "Area_countour_15\n",
      "Area_npixels_15\n",
      "Mean_15\n",
      "Sum_15\n",
      "Radius_15\n",
      "Rotated_Box_15\n",
      "Rotated_Box_side1_15\n",
      "Rotated_Box_side2_15\n",
      "Rotated_Box_area_15\n",
      "Rotated_Box_angle_15\n",
      "Rotated_Box_center_row_15\n",
      "Rotated_Box_center_col_15\n",
      "Ellipse_axis1_15\n",
      "Ellipse_axis2_15\n",
      "Ellipse_area_15\n",
      "Ellipse_angle_15\n",
      "Ellipse_center_row_15\n",
      "Ellipse_center_col_15\n",
      "Ratio_Area_npixels_rect_15\n",
      "Ratio_Area_npixels_circle_15\n",
      "Ratio_Area_npixels_ellipse_15\n",
      "Area_countour_20\n",
      "Area_npixels_20\n",
      "Mean_20\n",
      "Sum_20\n",
      "Radius_20\n",
      "Rotated_Box_20\n",
      "Rotated_Box_side1_20\n",
      "Rotated_Box_side2_20\n",
      "Rotated_Box_area_20\n",
      "Rotated_Box_angle_20\n",
      "Rotated_Box_center_row_20\n",
      "Rotated_Box_center_col_20\n",
      "Ellipse_axis1_20\n",
      "Ellipse_axis2_20\n",
      "Ellipse_area_20\n",
      "Ellipse_angle_20\n",
      "Ellipse_center_row_20\n",
      "Ellipse_center_col_20\n",
      "Ratio_Area_npixels_rect_20\n",
      "Ratio_Area_npixels_circle_20\n",
      "Ratio_Area_npixels_ellipse_20\n",
      "Area_countour_25\n",
      "Area_npixels_25\n",
      "Mean_25\n",
      "Sum_25\n",
      "Radius_25\n",
      "Rotated_Box_25\n",
      "Rotated_Box_side1_25\n",
      "Rotated_Box_side2_25\n",
      "Rotated_Box_area_25\n",
      "Rotated_Box_angle_25\n",
      "Rotated_Box_center_row_25\n",
      "Rotated_Box_center_col_25\n",
      "Ellipse_axis1_25\n",
      "Ellipse_axis2_25\n",
      "Ellipse_area_25\n",
      "Ellipse_angle_25\n",
      "Ellipse_center_row_25\n",
      "Ellipse_center_col_25\n",
      "Ratio_Area_npixels_rect_25\n",
      "Ratio_Area_npixels_circle_25\n",
      "Ratio_Area_npixels_ellipse_25\n",
      "Area_countour_30\n",
      "Area_npixels_30\n",
      "Mean_30\n",
      "Sum_30\n",
      "Radius_30\n",
      "Rotated_Box_30\n",
      "Rotated_Box_side1_30\n",
      "Rotated_Box_side2_30\n",
      "Rotated_Box_area_30\n",
      "Rotated_Box_angle_30\n",
      "Rotated_Box_center_row_30\n",
      "Rotated_Box_center_col_30\n",
      "Ellipse_axis1_30\n",
      "Ellipse_axis2_30\n",
      "Ellipse_area_30\n",
      "Ellipse_angle_30\n",
      "Ellipse_center_row_30\n",
      "Ellipse_center_col_30\n",
      "Ratio_Area_npixels_rect_30\n",
      "Ratio_Area_npixels_circle_30\n",
      "Ratio_Area_npixels_ellipse_30\n",
      "Area_countour_35\n",
      "Area_npixels_35\n",
      "Mean_35\n",
      "Sum_35\n",
      "Radius_35\n",
      "Rotated_Box_35\n",
      "Rotated_Box_side1_35\n",
      "Rotated_Box_side2_35\n",
      "Rotated_Box_area_35\n",
      "Rotated_Box_angle_35\n",
      "Rotated_Box_center_row_35\n",
      "Rotated_Box_center_col_35\n",
      "Ellipse_axis1_35\n",
      "Ellipse_axis2_35\n",
      "Ellipse_area_35\n",
      "Ellipse_angle_35\n",
      "Ellipse_center_row_35\n",
      "Ellipse_center_col_35\n",
      "Ratio_Area_npixels_rect_35\n",
      "Ratio_Area_npixels_circle_35\n",
      "Ratio_Area_npixels_ellipse_35\n",
      "Area_countour_40\n",
      "Area_npixels_40\n",
      "Mean_40\n",
      "Sum_40\n",
      "Radius_40\n",
      "Rotated_Box_40\n",
      "Rotated_Box_side1_40\n",
      "Rotated_Box_side2_40\n",
      "Rotated_Box_area_40\n",
      "Rotated_Box_angle_40\n",
      "Rotated_Box_center_row_40\n",
      "Rotated_Box_center_col_40\n",
      "Ellipse_axis1_40\n",
      "Ellipse_axis2_40\n",
      "Ellipse_area_40\n",
      "Ellipse_angle_40\n",
      "Ellipse_center_row_40\n",
      "Ellipse_center_col_40\n",
      "Ratio_Area_npixels_rect_40\n",
      "Ratio_Area_npixels_circle_40\n",
      "Ratio_Area_npixels_ellipse_40\n",
      "Area_countour_45\n",
      "Area_npixels_45\n",
      "Mean_45\n",
      "Sum_45\n",
      "Radius_45\n",
      "Rotated_Box_45\n",
      "Rotated_Box_side1_45\n",
      "Rotated_Box_side2_45\n",
      "Rotated_Box_area_45\n",
      "Rotated_Box_angle_45\n",
      "Rotated_Box_center_row_45\n",
      "Rotated_Box_center_col_45\n",
      "Ellipse_axis1_45\n",
      "Ellipse_axis2_45\n",
      "Ellipse_area_45\n",
      "Ellipse_angle_45\n",
      "Ellipse_center_row_45\n",
      "Ellipse_center_col_45\n",
      "Ratio_Area_npixels_rect_45\n",
      "Ratio_Area_npixels_circle_45\n",
      "Ratio_Area_npixels_ellipse_45\n",
      "Area_countour_50\n",
      "Area_npixels_50\n",
      "Mean_50\n",
      "Sum_50\n",
      "Radius_50\n",
      "Rotated_Box_50\n",
      "Rotated_Box_side1_50\n",
      "Rotated_Box_side2_50\n",
      "Rotated_Box_area_50\n",
      "Rotated_Box_angle_50\n",
      "Rotated_Box_center_row_50\n",
      "Rotated_Box_center_col_50\n",
      "Ellipse_axis1_50\n",
      "Ellipse_axis2_50\n",
      "Ellipse_area_50\n",
      "Ellipse_angle_50\n",
      "Ellipse_center_row_50\n",
      "Ellipse_center_col_50\n",
      "Ratio_Area_npixels_rect_50\n",
      "Ratio_Area_npixels_circle_50\n",
      "Ratio_Area_npixels_ellipse_50\n",
      "Area_countour_55\n",
      "Area_npixels_55\n",
      "Mean_55\n",
      "Sum_55\n",
      "Radius_55\n",
      "Rotated_Box_55\n",
      "Rotated_Box_side1_55\n",
      "Rotated_Box_side2_55\n",
      "Rotated_Box_area_55\n",
      "Rotated_Box_angle_55\n",
      "Rotated_Box_center_row_55\n",
      "Rotated_Box_center_col_55\n",
      "Ellipse_axis1_55\n",
      "Ellipse_axis2_55\n",
      "Ellipse_area_55\n",
      "Ellipse_angle_55\n",
      "Ellipse_center_row_55\n",
      "Ellipse_center_col_55\n",
      "Ratio_Area_npixels_rect_55\n",
      "Ratio_Area_npixels_circle_55\n",
      "Ratio_Area_npixels_ellipse_55\n",
      "Area_countour_60\n",
      "Area_npixels_60\n",
      "Mean_60\n",
      "Sum_60\n",
      "Radius_60\n",
      "Rotated_Box_60\n",
      "Rotated_Box_side1_60\n",
      "Rotated_Box_side2_60\n",
      "Rotated_Box_area_60\n",
      "Rotated_Box_angle_60\n",
      "Rotated_Box_center_row_60\n",
      "Rotated_Box_center_col_60\n",
      "Ellipse_axis1_60\n",
      "Ellipse_axis2_60\n",
      "Ellipse_area_60\n",
      "Ellipse_angle_60\n",
      "Ellipse_center_row_60\n",
      "Ellipse_center_col_60\n",
      "Ratio_Area_npixels_rect_60\n",
      "Ratio_Area_npixels_circle_60\n",
      "Ratio_Area_npixels_ellipse_60\n",
      "Area_countour_65\n",
      "Area_npixels_65\n",
      "Mean_65\n",
      "Sum_65\n",
      "Radius_65\n",
      "Rotated_Box_65\n",
      "Rotated_Box_side1_65\n",
      "Rotated_Box_side2_65\n",
      "Rotated_Box_area_65\n",
      "Rotated_Box_angle_65\n",
      "Rotated_Box_center_row_65\n",
      "Rotated_Box_center_col_65\n",
      "Ellipse_axis1_65\n",
      "Ellipse_axis2_65\n",
      "Ellipse_area_65\n",
      "Ellipse_angle_65\n",
      "Ellipse_center_row_65\n",
      "Ellipse_center_col_65\n",
      "Ratio_Area_npixels_rect_65\n",
      "Ratio_Area_npixels_circle_65\n",
      "Ratio_Area_npixels_ellipse_65\n",
      "Area_countour_70\n",
      "Area_npixels_70\n",
      "Mean_70\n",
      "Sum_70\n",
      "Radius_70\n",
      "Rotated_Box_70\n",
      "Rotated_Box_side1_70\n",
      "Rotated_Box_side2_70\n",
      "Rotated_Box_area_70\n",
      "Rotated_Box_angle_70\n",
      "Rotated_Box_center_row_70\n",
      "Rotated_Box_center_col_70\n",
      "Ellipse_axis1_70\n",
      "Ellipse_axis2_70\n",
      "Ellipse_area_70\n",
      "Ellipse_angle_70\n",
      "Ellipse_center_row_70\n",
      "Ellipse_center_col_70\n",
      "Ratio_Area_npixels_rect_70\n",
      "Ratio_Area_npixels_circle_70\n",
      "Ratio_Area_npixels_ellipse_70\n",
      "gradient_max_value_col\n",
      "gradient_min_value_col\n",
      "gradient_width_col\n",
      "gradient_full_width_col\n",
      "slope_min_max_col\n",
      "gradient_max_value_rows\n",
      "gradient_min_value_rows\n",
      "gradient_width_rows\n",
      "gradient_full_width_rows\n",
      "slope_min_max_rows\n",
      "SN\n",
      "DoE\n",
      "Block\n",
      "Stripe\n",
      "LASER_POWER_POLY\n",
      "LASER_SPEED_POLY\n",
      "LASER_SPOT_POLY\n",
      "Height\n",
      "Depth\n",
      "Width\n",
      "TotalHeight\n",
      "encoder_0\n",
      "encoder_1\n",
      "encoder_2\n",
      "encoder_3\n",
      "encoder_4\n",
      "encoder_5\n",
      "encoder_6\n",
      "encoder_7\n",
      "encoder_8\n",
      "encoder_9\n"
     ]
    }
   ],
   "source": [
    "for i in data_162_182.columns:\n",
    "    print(i)"
   ]
  },
  {
   "cell_type": "markdown",
   "metadata": {},
   "source": [
    "## Data Preprocessing"
   ]
  },
  {
   "cell_type": "code",
   "execution_count": 11,
   "metadata": {
    "scrolled": false
   },
   "outputs": [
    {
     "data": {
      "text/plain": [
       "True"
      ]
     },
     "execution_count": 11,
     "metadata": {},
     "output_type": "execute_result"
    }
   ],
   "source": [
    "data_162_182.drop_duplicates(inplace = True)\n",
    "\n",
    "data_162_182.isnull().values.any() "
   ]
  },
  {
   "cell_type": "code",
   "execution_count": 12,
   "metadata": {},
   "outputs": [],
   "source": [
    "data_162_182=data_162_182[data_162_182.LaserOn == 1]"
   ]
  },
  {
   "cell_type": "code",
   "execution_count": 13,
   "metadata": {},
   "outputs": [],
   "source": [
    "data_162_182 = data_162_182[data_162_182.Height != 0]"
   ]
  },
  {
   "cell_type": "code",
   "execution_count": 14,
   "metadata": {},
   "outputs": [
    {
     "name": "stdout",
     "output_type": "stream",
     "text": [
      "gradient_max_value_col\n",
      "180\n",
      "gradient_min_value_col\n",
      "180\n",
      "gradient_width_col\n",
      "180\n",
      "gradient_full_width_col\n",
      "180\n",
      "slope_min_max_col\n",
      "180\n",
      "gradient_max_value_rows\n",
      "180\n",
      "gradient_min_value_rows\n",
      "180\n",
      "gradient_width_rows\n",
      "180\n",
      "gradient_full_width_rows\n",
      "180\n",
      "slope_min_max_rows\n",
      "180\n",
      "encoder_0\n",
      "1569\n",
      "encoder_1\n",
      "1569\n",
      "encoder_2\n",
      "1569\n",
      "encoder_3\n",
      "1569\n",
      "encoder_4\n",
      "1569\n",
      "encoder_5\n",
      "1569\n",
      "encoder_6\n",
      "1569\n",
      "encoder_7\n",
      "1569\n",
      "encoder_8\n",
      "1569\n",
      "encoder_9\n",
      "1569\n"
     ]
    }
   ],
   "source": [
    "for i in data_162_182.columns:\n",
    "    if data_162_182[i].isnull().values.any() == True:\n",
    "        print(i)\n",
    "        print(data_162_182[i].isnull().sum())"
   ]
  },
  {
   "cell_type": "code",
   "execution_count": 15,
   "metadata": {},
   "outputs": [
    {
     "data": {
      "text/html": [
       "<div>\n",
       "<style scoped>\n",
       "    .dataframe tbody tr th:only-of-type {\n",
       "        vertical-align: middle;\n",
       "    }\n",
       "\n",
       "    .dataframe tbody tr th {\n",
       "        vertical-align: top;\n",
       "    }\n",
       "\n",
       "    .dataframe thead th {\n",
       "        text-align: right;\n",
       "    }\n",
       "</style>\n",
       "<table border=\"1\" class=\"dataframe\">\n",
       "  <thead>\n",
       "    <tr style=\"text-align: right;\">\n",
       "      <th></th>\n",
       "      <th>tdms_index</th>\n",
       "      <th>Layer</th>\n",
       "      <th>x</th>\n",
       "      <th>y</th>\n",
       "      <th>apd</th>\n",
       "      <th>LaserOn</th>\n",
       "      <th>change_bool</th>\n",
       "      <th>LineIndex</th>\n",
       "      <th>LineID</th>\n",
       "      <th>BlockID</th>\n",
       "      <th>...</th>\n",
       "      <th>encoder_0</th>\n",
       "      <th>encoder_1</th>\n",
       "      <th>encoder_2</th>\n",
       "      <th>encoder_3</th>\n",
       "      <th>encoder_4</th>\n",
       "      <th>encoder_5</th>\n",
       "      <th>encoder_6</th>\n",
       "      <th>encoder_7</th>\n",
       "      <th>encoder_8</th>\n",
       "      <th>encoder_9</th>\n",
       "    </tr>\n",
       "    <tr>\n",
       "      <th>Frame_Index</th>\n",
       "      <th></th>\n",
       "      <th></th>\n",
       "      <th></th>\n",
       "      <th></th>\n",
       "      <th></th>\n",
       "      <th></th>\n",
       "      <th></th>\n",
       "      <th></th>\n",
       "      <th></th>\n",
       "      <th></th>\n",
       "      <th></th>\n",
       "      <th></th>\n",
       "      <th></th>\n",
       "      <th></th>\n",
       "      <th></th>\n",
       "      <th></th>\n",
       "      <th></th>\n",
       "      <th></th>\n",
       "      <th></th>\n",
       "      <th></th>\n",
       "      <th></th>\n",
       "    </tr>\n",
       "  </thead>\n",
       "  <tbody>\n",
       "    <tr>\n",
       "      <th>0</th>\n",
       "      <td>639002</td>\n",
       "      <td>162</td>\n",
       "      <td>798</td>\n",
       "      <td>1756</td>\n",
       "      <td>1688</td>\n",
       "      <td>1</td>\n",
       "      <td>1</td>\n",
       "      <td>5554</td>\n",
       "      <td>1</td>\n",
       "      <td>19</td>\n",
       "      <td>...</td>\n",
       "      <td>0.126472</td>\n",
       "      <td>0.124965</td>\n",
       "      <td>0.202442</td>\n",
       "      <td>0.122546</td>\n",
       "      <td>0.267214</td>\n",
       "      <td>0.187425</td>\n",
       "      <td>0.483032</td>\n",
       "      <td>0.135109</td>\n",
       "      <td>0.171343</td>\n",
       "      <td>0.168408</td>\n",
       "    </tr>\n",
       "    <tr>\n",
       "      <th>1</th>\n",
       "      <td>639003</td>\n",
       "      <td>162</td>\n",
       "      <td>833</td>\n",
       "      <td>1759</td>\n",
       "      <td>2399</td>\n",
       "      <td>1</td>\n",
       "      <td>0</td>\n",
       "      <td>5554</td>\n",
       "      <td>1</td>\n",
       "      <td>19</td>\n",
       "      <td>...</td>\n",
       "      <td>0.414566</td>\n",
       "      <td>0.252620</td>\n",
       "      <td>0.386618</td>\n",
       "      <td>0.365045</td>\n",
       "      <td>0.128948</td>\n",
       "      <td>0.145017</td>\n",
       "      <td>0.284230</td>\n",
       "      <td>0.477547</td>\n",
       "      <td>0.239621</td>\n",
       "      <td>0.214533</td>\n",
       "    </tr>\n",
       "    <tr>\n",
       "      <th>2</th>\n",
       "      <td>639004</td>\n",
       "      <td>162</td>\n",
       "      <td>867</td>\n",
       "      <td>1762</td>\n",
       "      <td>3058</td>\n",
       "      <td>1</td>\n",
       "      <td>0</td>\n",
       "      <td>5554</td>\n",
       "      <td>1</td>\n",
       "      <td>19</td>\n",
       "      <td>...</td>\n",
       "      <td>0.403801</td>\n",
       "      <td>0.295532</td>\n",
       "      <td>0.375750</td>\n",
       "      <td>0.415691</td>\n",
       "      <td>0.109082</td>\n",
       "      <td>0.198924</td>\n",
       "      <td>0.275004</td>\n",
       "      <td>0.539477</td>\n",
       "      <td>0.338243</td>\n",
       "      <td>0.300042</td>\n",
       "    </tr>\n",
       "    <tr>\n",
       "      <th>3</th>\n",
       "      <td>639005</td>\n",
       "      <td>162</td>\n",
       "      <td>901</td>\n",
       "      <td>1765</td>\n",
       "      <td>2942</td>\n",
       "      <td>1</td>\n",
       "      <td>0</td>\n",
       "      <td>5554</td>\n",
       "      <td>1</td>\n",
       "      <td>19</td>\n",
       "      <td>...</td>\n",
       "      <td>0.478218</td>\n",
       "      <td>0.257299</td>\n",
       "      <td>0.455102</td>\n",
       "      <td>0.329200</td>\n",
       "      <td>0.102793</td>\n",
       "      <td>0.288820</td>\n",
       "      <td>0.279632</td>\n",
       "      <td>0.566580</td>\n",
       "      <td>0.224948</td>\n",
       "      <td>0.269998</td>\n",
       "    </tr>\n",
       "    <tr>\n",
       "      <th>4</th>\n",
       "      <td>639006</td>\n",
       "      <td>162</td>\n",
       "      <td>936</td>\n",
       "      <td>1768</td>\n",
       "      <td>2567</td>\n",
       "      <td>1</td>\n",
       "      <td>0</td>\n",
       "      <td>5554</td>\n",
       "      <td>1</td>\n",
       "      <td>19</td>\n",
       "      <td>...</td>\n",
       "      <td>0.370758</td>\n",
       "      <td>0.314398</td>\n",
       "      <td>0.409091</td>\n",
       "      <td>0.456760</td>\n",
       "      <td>0.098356</td>\n",
       "      <td>0.131032</td>\n",
       "      <td>0.263523</td>\n",
       "      <td>0.479126</td>\n",
       "      <td>0.239580</td>\n",
       "      <td>0.295296</td>\n",
       "    </tr>\n",
       "  </tbody>\n",
       "</table>\n",
       "<p>5 rows × 336 columns</p>\n",
       "</div>"
      ],
      "text/plain": [
       "             tdms_index  Layer    x     y   apd  LaserOn  change_bool  \\\n",
       "Frame_Index                                                             \n",
       "0                639002    162  798  1756  1688        1            1   \n",
       "1                639003    162  833  1759  2399        1            0   \n",
       "2                639004    162  867  1762  3058        1            0   \n",
       "3                639005    162  901  1765  2942        1            0   \n",
       "4                639006    162  936  1768  2567        1            0   \n",
       "\n",
       "             LineIndex  LineID  BlockID  ...  encoder_0  encoder_1  encoder_2  \\\n",
       "Frame_Index                              ...                                    \n",
       "0                 5554       1       19  ...   0.126472   0.124965   0.202442   \n",
       "1                 5554       1       19  ...   0.414566   0.252620   0.386618   \n",
       "2                 5554       1       19  ...   0.403801   0.295532   0.375750   \n",
       "3                 5554       1       19  ...   0.478218   0.257299   0.455102   \n",
       "4                 5554       1       19  ...   0.370758   0.314398   0.409091   \n",
       "\n",
       "             encoder_3  encoder_4  encoder_5 encoder_6  encoder_7  encoder_8  \\\n",
       "Frame_Index                                                                    \n",
       "0             0.122546   0.267214   0.187425  0.483032   0.135109   0.171343   \n",
       "1             0.365045   0.128948   0.145017  0.284230   0.477547   0.239621   \n",
       "2             0.415691   0.109082   0.198924  0.275004   0.539477   0.338243   \n",
       "3             0.329200   0.102793   0.288820  0.279632   0.566580   0.224948   \n",
       "4             0.456760   0.098356   0.131032  0.263523   0.479126   0.239580   \n",
       "\n",
       "             encoder_9  \n",
       "Frame_Index             \n",
       "0             0.168408  \n",
       "1             0.214533  \n",
       "2             0.300042  \n",
       "3             0.269998  \n",
       "4             0.295296  \n",
       "\n",
       "[5 rows x 336 columns]"
      ]
     },
     "execution_count": 15,
     "metadata": {},
     "output_type": "execute_result"
    }
   ],
   "source": [
    "data162_182 = data_162_182.set_index('Frame_Index')\n",
    "data162_182.head()"
   ]
  },
  {
   "cell_type": "code",
   "execution_count": 16,
   "metadata": {},
   "outputs": [],
   "source": [
    "data162_182 = data162_182[data162_182['Area_countour_5']!=-1] #delete all the threshold_5 -1 value"
   ]
  },
  {
   "cell_type": "code",
   "execution_count": 17,
   "metadata": {},
   "outputs": [
    {
     "data": {
      "text/plain": [
       "False"
      ]
     },
     "execution_count": 17,
     "metadata": {},
     "output_type": "execute_result"
    }
   ],
   "source": [
    "data162_182.isnull().values.any() "
   ]
  },
  {
   "cell_type": "code",
   "execution_count": 18,
   "metadata": {},
   "outputs": [
    {
     "data": {
      "text/html": [
       "<div>\n",
       "<style scoped>\n",
       "    .dataframe tbody tr th:only-of-type {\n",
       "        vertical-align: middle;\n",
       "    }\n",
       "\n",
       "    .dataframe tbody tr th {\n",
       "        vertical-align: top;\n",
       "    }\n",
       "\n",
       "    .dataframe thead th {\n",
       "        text-align: right;\n",
       "    }\n",
       "</style>\n",
       "<table border=\"1\" class=\"dataframe\">\n",
       "  <thead>\n",
       "    <tr style=\"text-align: right;\">\n",
       "      <th></th>\n",
       "      <th>tdms_index</th>\n",
       "      <th>Layer</th>\n",
       "      <th>x</th>\n",
       "      <th>y</th>\n",
       "      <th>apd</th>\n",
       "      <th>LaserOn</th>\n",
       "      <th>change_bool</th>\n",
       "      <th>LineIndex</th>\n",
       "      <th>LineID</th>\n",
       "      <th>BlockID</th>\n",
       "      <th>...</th>\n",
       "      <th>encoder_0</th>\n",
       "      <th>encoder_1</th>\n",
       "      <th>encoder_2</th>\n",
       "      <th>encoder_3</th>\n",
       "      <th>encoder_4</th>\n",
       "      <th>encoder_5</th>\n",
       "      <th>encoder_6</th>\n",
       "      <th>encoder_7</th>\n",
       "      <th>encoder_8</th>\n",
       "      <th>encoder_9</th>\n",
       "    </tr>\n",
       "    <tr>\n",
       "      <th>Frame_Index</th>\n",
       "      <th></th>\n",
       "      <th></th>\n",
       "      <th></th>\n",
       "      <th></th>\n",
       "      <th></th>\n",
       "      <th></th>\n",
       "      <th></th>\n",
       "      <th></th>\n",
       "      <th></th>\n",
       "      <th></th>\n",
       "      <th></th>\n",
       "      <th></th>\n",
       "      <th></th>\n",
       "      <th></th>\n",
       "      <th></th>\n",
       "      <th></th>\n",
       "      <th></th>\n",
       "      <th></th>\n",
       "      <th></th>\n",
       "      <th></th>\n",
       "      <th></th>\n",
       "    </tr>\n",
       "  </thead>\n",
       "  <tbody>\n",
       "    <tr>\n",
       "      <th>0</th>\n",
       "      <td>639002</td>\n",
       "      <td>162</td>\n",
       "      <td>798</td>\n",
       "      <td>1756</td>\n",
       "      <td>1688</td>\n",
       "      <td>1</td>\n",
       "      <td>1</td>\n",
       "      <td>5554</td>\n",
       "      <td>1</td>\n",
       "      <td>19</td>\n",
       "      <td>...</td>\n",
       "      <td>0.126472</td>\n",
       "      <td>0.124965</td>\n",
       "      <td>0.202442</td>\n",
       "      <td>0.122546</td>\n",
       "      <td>0.267214</td>\n",
       "      <td>0.187425</td>\n",
       "      <td>0.483032</td>\n",
       "      <td>0.135109</td>\n",
       "      <td>0.171343</td>\n",
       "      <td>0.168408</td>\n",
       "    </tr>\n",
       "    <tr>\n",
       "      <th>1</th>\n",
       "      <td>639003</td>\n",
       "      <td>162</td>\n",
       "      <td>833</td>\n",
       "      <td>1759</td>\n",
       "      <td>2399</td>\n",
       "      <td>1</td>\n",
       "      <td>0</td>\n",
       "      <td>5554</td>\n",
       "      <td>1</td>\n",
       "      <td>19</td>\n",
       "      <td>...</td>\n",
       "      <td>0.414566</td>\n",
       "      <td>0.252620</td>\n",
       "      <td>0.386618</td>\n",
       "      <td>0.365045</td>\n",
       "      <td>0.128948</td>\n",
       "      <td>0.145017</td>\n",
       "      <td>0.284230</td>\n",
       "      <td>0.477547</td>\n",
       "      <td>0.239621</td>\n",
       "      <td>0.214533</td>\n",
       "    </tr>\n",
       "    <tr>\n",
       "      <th>2</th>\n",
       "      <td>639004</td>\n",
       "      <td>162</td>\n",
       "      <td>867</td>\n",
       "      <td>1762</td>\n",
       "      <td>3058</td>\n",
       "      <td>1</td>\n",
       "      <td>0</td>\n",
       "      <td>5554</td>\n",
       "      <td>1</td>\n",
       "      <td>19</td>\n",
       "      <td>...</td>\n",
       "      <td>0.403801</td>\n",
       "      <td>0.295532</td>\n",
       "      <td>0.375750</td>\n",
       "      <td>0.415691</td>\n",
       "      <td>0.109082</td>\n",
       "      <td>0.198924</td>\n",
       "      <td>0.275004</td>\n",
       "      <td>0.539477</td>\n",
       "      <td>0.338243</td>\n",
       "      <td>0.300042</td>\n",
       "    </tr>\n",
       "    <tr>\n",
       "      <th>3</th>\n",
       "      <td>639005</td>\n",
       "      <td>162</td>\n",
       "      <td>901</td>\n",
       "      <td>1765</td>\n",
       "      <td>2942</td>\n",
       "      <td>1</td>\n",
       "      <td>0</td>\n",
       "      <td>5554</td>\n",
       "      <td>1</td>\n",
       "      <td>19</td>\n",
       "      <td>...</td>\n",
       "      <td>0.478218</td>\n",
       "      <td>0.257299</td>\n",
       "      <td>0.455102</td>\n",
       "      <td>0.329200</td>\n",
       "      <td>0.102793</td>\n",
       "      <td>0.288820</td>\n",
       "      <td>0.279632</td>\n",
       "      <td>0.566580</td>\n",
       "      <td>0.224948</td>\n",
       "      <td>0.269998</td>\n",
       "    </tr>\n",
       "    <tr>\n",
       "      <th>4</th>\n",
       "      <td>639006</td>\n",
       "      <td>162</td>\n",
       "      <td>936</td>\n",
       "      <td>1768</td>\n",
       "      <td>2567</td>\n",
       "      <td>1</td>\n",
       "      <td>0</td>\n",
       "      <td>5554</td>\n",
       "      <td>1</td>\n",
       "      <td>19</td>\n",
       "      <td>...</td>\n",
       "      <td>0.370758</td>\n",
       "      <td>0.314398</td>\n",
       "      <td>0.409091</td>\n",
       "      <td>0.456760</td>\n",
       "      <td>0.098356</td>\n",
       "      <td>0.131032</td>\n",
       "      <td>0.263523</td>\n",
       "      <td>0.479126</td>\n",
       "      <td>0.239580</td>\n",
       "      <td>0.295296</td>\n",
       "    </tr>\n",
       "  </tbody>\n",
       "</table>\n",
       "<p>5 rows × 332 columns</p>\n",
       "</div>"
      ],
      "text/plain": [
       "             tdms_index  Layer    x     y   apd  LaserOn  change_bool  \\\n",
       "Frame_Index                                                             \n",
       "0                639002    162  798  1756  1688        1            1   \n",
       "1                639003    162  833  1759  2399        1            0   \n",
       "2                639004    162  867  1762  3058        1            0   \n",
       "3                639005    162  901  1765  2942        1            0   \n",
       "4                639006    162  936  1768  2567        1            0   \n",
       "\n",
       "             LineIndex  LineID  BlockID  ...  encoder_0  encoder_1  encoder_2  \\\n",
       "Frame_Index                              ...                                    \n",
       "0                 5554       1       19  ...   0.126472   0.124965   0.202442   \n",
       "1                 5554       1       19  ...   0.414566   0.252620   0.386618   \n",
       "2                 5554       1       19  ...   0.403801   0.295532   0.375750   \n",
       "3                 5554       1       19  ...   0.478218   0.257299   0.455102   \n",
       "4                 5554       1       19  ...   0.370758   0.314398   0.409091   \n",
       "\n",
       "             encoder_3  encoder_4  encoder_5 encoder_6  encoder_7  encoder_8  \\\n",
       "Frame_Index                                                                    \n",
       "0             0.122546   0.267214   0.187425  0.483032   0.135109   0.171343   \n",
       "1             0.365045   0.128948   0.145017  0.284230   0.477547   0.239621   \n",
       "2             0.415691   0.109082   0.198924  0.275004   0.539477   0.338243   \n",
       "3             0.329200   0.102793   0.288820  0.279632   0.566580   0.224948   \n",
       "4             0.456760   0.098356   0.131032  0.263523   0.479126   0.239580   \n",
       "\n",
       "             encoder_9  \n",
       "Frame_Index             \n",
       "0             0.168408  \n",
       "1             0.214533  \n",
       "2             0.300042  \n",
       "3             0.269998  \n",
       "4             0.295296  \n",
       "\n",
       "[5 rows x 332 columns]"
      ]
     },
     "execution_count": 18,
     "metadata": {},
     "output_type": "execute_result"
    }
   ],
   "source": [
    "X_162_182 = data162_182[data162_182.columns[~data162_182.columns.isin(['Height','Depth', 'Width', 'TotalHeight'])]]\n",
    "Y_162_182 = data162_182[['Height','Depth', 'Width', 'TotalHeight']]\n",
    "X_162_182.head()"
   ]
  },
  {
   "cell_type": "code",
   "execution_count": 19,
   "metadata": {
    "scrolled": false
   },
   "outputs": [
    {
     "data": {
      "text/html": [
       "<div>\n",
       "<style scoped>\n",
       "    .dataframe tbody tr th:only-of-type {\n",
       "        vertical-align: middle;\n",
       "    }\n",
       "\n",
       "    .dataframe tbody tr th {\n",
       "        vertical-align: top;\n",
       "    }\n",
       "\n",
       "    .dataframe thead th {\n",
       "        text-align: right;\n",
       "    }\n",
       "</style>\n",
       "<table border=\"1\" class=\"dataframe\">\n",
       "  <thead>\n",
       "    <tr style=\"text-align: right;\">\n",
       "      <th></th>\n",
       "      <th>apd</th>\n",
       "      <th>Area_countour_5</th>\n",
       "      <th>Area_npixels_5</th>\n",
       "      <th>Mean_5</th>\n",
       "      <th>Sum_5</th>\n",
       "      <th>Radius_5</th>\n",
       "      <th>Rotated_Box_side1_5</th>\n",
       "      <th>Rotated_Box_side2_5</th>\n",
       "      <th>Rotated_Box_area_5</th>\n",
       "      <th>Rotated_Box_angle_5</th>\n",
       "      <th>...</th>\n",
       "      <th>encoder_0</th>\n",
       "      <th>encoder_1</th>\n",
       "      <th>encoder_2</th>\n",
       "      <th>encoder_3</th>\n",
       "      <th>encoder_4</th>\n",
       "      <th>encoder_5</th>\n",
       "      <th>encoder_6</th>\n",
       "      <th>encoder_7</th>\n",
       "      <th>encoder_8</th>\n",
       "      <th>encoder_9</th>\n",
       "    </tr>\n",
       "    <tr>\n",
       "      <th>Frame_Index</th>\n",
       "      <th></th>\n",
       "      <th></th>\n",
       "      <th></th>\n",
       "      <th></th>\n",
       "      <th></th>\n",
       "      <th></th>\n",
       "      <th></th>\n",
       "      <th></th>\n",
       "      <th></th>\n",
       "      <th></th>\n",
       "      <th></th>\n",
       "      <th></th>\n",
       "      <th></th>\n",
       "      <th></th>\n",
       "      <th></th>\n",
       "      <th></th>\n",
       "      <th></th>\n",
       "      <th></th>\n",
       "      <th></th>\n",
       "      <th></th>\n",
       "      <th></th>\n",
       "    </tr>\n",
       "  </thead>\n",
       "  <tbody>\n",
       "    <tr>\n",
       "      <th>0</th>\n",
       "      <td>1688</td>\n",
       "      <td>65.5</td>\n",
       "      <td>80.0</td>\n",
       "      <td>19.2</td>\n",
       "      <td>1532.0</td>\n",
       "      <td>5.1</td>\n",
       "      <td>9.0</td>\n",
       "      <td>9.0</td>\n",
       "      <td>81.0</td>\n",
       "      <td>-90.0</td>\n",
       "      <td>...</td>\n",
       "      <td>0.126472</td>\n",
       "      <td>0.124965</td>\n",
       "      <td>0.202442</td>\n",
       "      <td>0.122546</td>\n",
       "      <td>0.267214</td>\n",
       "      <td>0.187425</td>\n",
       "      <td>0.483032</td>\n",
       "      <td>0.135109</td>\n",
       "      <td>0.171343</td>\n",
       "      <td>0.168408</td>\n",
       "    </tr>\n",
       "    <tr>\n",
       "      <th>1</th>\n",
       "      <td>2399</td>\n",
       "      <td>154.0</td>\n",
       "      <td>176.0</td>\n",
       "      <td>37.1</td>\n",
       "      <td>6526.0</td>\n",
       "      <td>8.7</td>\n",
       "      <td>12.0</td>\n",
       "      <td>16.0</td>\n",
       "      <td>192.0</td>\n",
       "      <td>0.0</td>\n",
       "      <td>...</td>\n",
       "      <td>0.414566</td>\n",
       "      <td>0.252620</td>\n",
       "      <td>0.386618</td>\n",
       "      <td>0.365045</td>\n",
       "      <td>0.128948</td>\n",
       "      <td>0.145017</td>\n",
       "      <td>0.284230</td>\n",
       "      <td>0.477547</td>\n",
       "      <td>0.239621</td>\n",
       "      <td>0.214533</td>\n",
       "    </tr>\n",
       "    <tr>\n",
       "      <th>2</th>\n",
       "      <td>3058</td>\n",
       "      <td>182.5</td>\n",
       "      <td>207.0</td>\n",
       "      <td>37.1</td>\n",
       "      <td>7686.0</td>\n",
       "      <td>10.1</td>\n",
       "      <td>13.0</td>\n",
       "      <td>19.0</td>\n",
       "      <td>247.0</td>\n",
       "      <td>0.0</td>\n",
       "      <td>...</td>\n",
       "      <td>0.403801</td>\n",
       "      <td>0.295532</td>\n",
       "      <td>0.375750</td>\n",
       "      <td>0.415691</td>\n",
       "      <td>0.109082</td>\n",
       "      <td>0.198924</td>\n",
       "      <td>0.275004</td>\n",
       "      <td>0.539477</td>\n",
       "      <td>0.338243</td>\n",
       "      <td>0.300042</td>\n",
       "    </tr>\n",
       "    <tr>\n",
       "      <th>3</th>\n",
       "      <td>2942</td>\n",
       "      <td>173.5</td>\n",
       "      <td>197.0</td>\n",
       "      <td>39.5</td>\n",
       "      <td>7772.0</td>\n",
       "      <td>10.1</td>\n",
       "      <td>12.1</td>\n",
       "      <td>20.1</td>\n",
       "      <td>243.2</td>\n",
       "      <td>-24.4</td>\n",
       "      <td>...</td>\n",
       "      <td>0.478218</td>\n",
       "      <td>0.257299</td>\n",
       "      <td>0.455102</td>\n",
       "      <td>0.329200</td>\n",
       "      <td>0.102793</td>\n",
       "      <td>0.288820</td>\n",
       "      <td>0.279632</td>\n",
       "      <td>0.566580</td>\n",
       "      <td>0.224948</td>\n",
       "      <td>0.269998</td>\n",
       "    </tr>\n",
       "    <tr>\n",
       "      <th>4</th>\n",
       "      <td>2567</td>\n",
       "      <td>176.0</td>\n",
       "      <td>200.0</td>\n",
       "      <td>37.7</td>\n",
       "      <td>7539.0</td>\n",
       "      <td>10.0</td>\n",
       "      <td>12.1</td>\n",
       "      <td>19.2</td>\n",
       "      <td>232.3</td>\n",
       "      <td>-24.4</td>\n",
       "      <td>...</td>\n",
       "      <td>0.370758</td>\n",
       "      <td>0.314398</td>\n",
       "      <td>0.409091</td>\n",
       "      <td>0.456760</td>\n",
       "      <td>0.098356</td>\n",
       "      <td>0.131032</td>\n",
       "      <td>0.263523</td>\n",
       "      <td>0.479126</td>\n",
       "      <td>0.239580</td>\n",
       "      <td>0.295296</td>\n",
       "    </tr>\n",
       "  </tbody>\n",
       "</table>\n",
       "<p>5 rows × 301 columns</p>\n",
       "</div>"
      ],
      "text/plain": [
       "              apd  Area_countour_5  Area_npixels_5  Mean_5   Sum_5  Radius_5  \\\n",
       "Frame_Index                                                                    \n",
       "0            1688             65.5            80.0    19.2  1532.0       5.1   \n",
       "1            2399            154.0           176.0    37.1  6526.0       8.7   \n",
       "2            3058            182.5           207.0    37.1  7686.0      10.1   \n",
       "3            2942            173.5           197.0    39.5  7772.0      10.1   \n",
       "4            2567            176.0           200.0    37.7  7539.0      10.0   \n",
       "\n",
       "             Rotated_Box_side1_5  Rotated_Box_side2_5  Rotated_Box_area_5  \\\n",
       "Frame_Index                                                                 \n",
       "0                            9.0                  9.0                81.0   \n",
       "1                           12.0                 16.0               192.0   \n",
       "2                           13.0                 19.0               247.0   \n",
       "3                           12.1                 20.1               243.2   \n",
       "4                           12.1                 19.2               232.3   \n",
       "\n",
       "             Rotated_Box_angle_5  ...  encoder_0  encoder_1  encoder_2  \\\n",
       "Frame_Index                       ...                                    \n",
       "0                          -90.0  ...   0.126472   0.124965   0.202442   \n",
       "1                            0.0  ...   0.414566   0.252620   0.386618   \n",
       "2                            0.0  ...   0.403801   0.295532   0.375750   \n",
       "3                          -24.4  ...   0.478218   0.257299   0.455102   \n",
       "4                          -24.4  ...   0.370758   0.314398   0.409091   \n",
       "\n",
       "             encoder_3  encoder_4  encoder_5  encoder_6  encoder_7  encoder_8  \\\n",
       "Frame_Index                                                                     \n",
       "0             0.122546   0.267214   0.187425   0.483032   0.135109   0.171343   \n",
       "1             0.365045   0.128948   0.145017   0.284230   0.477547   0.239621   \n",
       "2             0.415691   0.109082   0.198924   0.275004   0.539477   0.338243   \n",
       "3             0.329200   0.102793   0.288820   0.279632   0.566580   0.224948   \n",
       "4             0.456760   0.098356   0.131032   0.263523   0.479126   0.239580   \n",
       "\n",
       "             encoder_9  \n",
       "Frame_Index             \n",
       "0             0.168408  \n",
       "1             0.214533  \n",
       "2             0.300042  \n",
       "3             0.269998  \n",
       "4             0.295296  \n",
       "\n",
       "[5 rows x 301 columns]"
      ]
     },
     "metadata": {},
     "output_type": "display_data"
    }
   ],
   "source": [
    "not_feature = ['tdms_index', 'Layer', 'x', 'y', 'LaserOn', 'change_bool',\n",
    "        'LineIndex', 'LineID', 'BlockID', 'Frame_Index.1',\n",
    "        'Rotated_Box_5','Rotated_Box_10','Rotated_Box_15','Rotated_Box_20','Rotated_Box_25','Rotated_Box_30','Rotated_Box_35',\n",
    "        'Rotated_Box_40','Rotated_Box_45','Rotated_Box_50','Rotated_Box_55','Rotated_Box_60','Rotated_Box_65','Rotated_Box_70',\n",
    "        'SN', 'DoE', 'Block', 'Stripe',\n",
    "        'LASER_POWER_POLY', 'LASER_SPEED_POLY','LASER_SPOT_POLY']\n",
    "\n",
    "X_162_182 = X_162_182[X_162_182.columns[~X_162_182.columns.isin(not_feature)]]\n",
    "display(X_162_182.head())"
   ]
  },
  {
   "cell_type": "code",
   "execution_count": 22,
   "metadata": {},
   "outputs": [
    {
     "data": {
      "image/png": "[encoded data removed]",
      "text/plain": [
       "<Figure size 1440x720 with 4 Axes>"
      ]
     },
     "metadata": {
      "needs_background": "light"
     },
     "output_type": "display_data"
    }
   ],
   "source": [
    "Y_162_182.hist(figsize=(20,10)) \n",
    "plt.show()"
   ]
  },
  {
   "cell_type": "markdown",
   "metadata": {},
   "source": [
    "## LinearRegression"
   ]
  },
  {
   "cell_type": "code",
   "execution_count": 23,
   "metadata": {},
   "outputs": [],
   "source": [
    "from sklearn.model_selection import train_test_split\n",
    "from sklearn import linear_model\n",
    "from sklearn.metrics import mean_squared_error"
   ]
  },
  {
   "cell_type": "code",
   "execution_count": 24,
   "metadata": {},
   "outputs": [],
   "source": [
    "def linearRegressionModel(X,Y):   \n",
    "    y_test_predict_list=[]\n",
    "    y_test_list = []\n",
    "    x_train, x_test, y_train, y_test = train_test_split(X, Y, test_size=0.3, random_state = 100)\n",
    "    print ('Number of samples in training data:',len(x_train))\n",
    "    print ('Number of samples in validation data:',len(x_test))\n",
    "\n",
    "    linearReg_model=linear_model.LinearRegression().fit(x_train,y_train)\n",
    "\n",
    "    print()\n",
    "    y_train_predict = linearReg_model.predict(x_train) \n",
    "    training_error= np.sqrt(mean_squared_error(y_train, y_train_predict))\n",
    "    print(\"Training Error (RMSE) :\",training_error)\n",
    "    y_test_predict = linearReg_model.predict(x_test) \n",
    "    test_error= np.sqrt(mean_squared_error(y_test, y_test_predict)) \n",
    "    print(\"Test Error (RMSE) :\",test_error)\n",
    "    print()\n",
    "    y_test_predict_list.append(y_test_predict)\n",
    "    y_test_list.append(y_test.values)\n",
    "    \n",
    "    training_accuracy= linearReg_model.score(x_train, y_train) \n",
    "    #training_accuracy = r2_score(y_train, y_train_predict)\n",
    "    print ('Training Accuracy:', training_accuracy)\n",
    "    training_accuracy_adjusted = 1-(1-training_accuracy)*((len(x_train)-1)/(len(x_train)-len(x_train.columns)-1))\n",
    "    print ('Training Accuracy Adjusted:', training_accuracy_adjusted)  \n",
    "    print()\n",
    "    test_accuracy= linearReg_model.score(x_test, y_test) \n",
    "    print ('Testing Accuracy:', test_accuracy)\n",
    "    test_accuracy_adjusted = 1-(1-test_accuracy)*((len(x_test)-1)/(len(x_test)-len(x_test.columns)-1))\n",
    "    print ('Testing Accuracy Adjusted:', training_accuracy_adjusted) \n",
    "    return y_test_predict_list,y_test_list"
   ]
  },
  {
   "cell_type": "code",
   "execution_count": 29,
   "metadata": {},
   "outputs": [
    {
     "data": {
      "text/plain": [
       "((33007, 301), (33007, 4))"
      ]
     },
     "execution_count": 29,
     "metadata": {},
     "output_type": "execute_result"
    }
   ],
   "source": [
    "X=X_162_182\n",
    "Y=Y_162_182\n",
    "X.shape,Y.shape"
   ]
  },
  {
   "cell_type": "code",
   "execution_count": 30,
   "metadata": {
    "scrolled": false
   },
   "outputs": [
    {
     "name": "stdout",
     "output_type": "stream",
     "text": [
      "-----------All Features with Auto-----------\n",
      "\n",
      "-----------Width Prediction-----------\n",
      "Number of samples in training data: 23104\n",
      "Number of samples in validation data: 9903\n",
      "\n",
      "Training Error (RMSE) : 24.53355297177649\n",
      "Test Error (RMSE) : 24.660354287981438\n",
      "\n",
      "Training Accuracy: 0.7247207100914255\n",
      "Training Accuracy Adjusted: 0.7210868592773529\n",
      "\n",
      "Testing Accuracy: 0.7203067609107346\n",
      "Testing Accuracy Adjusted: 0.7210868592773529\n"
     ]
    },
    {
     "data": {
      "image/png": "[encoded data removed]",
      "text/plain": [
       "<Figure size 432x288 with 1 Axes>"
      ]
     },
     "metadata": {
      "needs_background": "light"
     },
     "output_type": "display_data"
    },
    {
     "data": {
      "image/png": "[encoded data removed]",
      "text/plain": [
       "<Figure size 432x288 with 1 Axes>"
      ]
     },
     "metadata": {
      "needs_background": "light"
     },
     "output_type": "display_data"
    },
    {
     "data": {
      "image/png": "[encoded data removed]",
      "text/plain": [
       "<Figure size 432x288 with 1 Axes>"
      ]
     },
     "metadata": {
      "needs_background": "light"
     },
     "output_type": "display_data"
    },
    {
     "data": {
      "image/png": "[encoded data removed]",
      "text/plain": [
       "<Figure size 432x288 with 1 Axes>"
      ]
     },
     "metadata": {
      "needs_background": "light"
     },
     "output_type": "display_data"
    }
   ],
   "source": [
    "print('-----------All Features with Auto-----------')\n",
    "print()\n",
    "print('-----------Width Prediction-----------')\n",
    "y_test_predict_list,y_test_list = linearRegressionModel(X,Y[['Width']])\n",
    "y_test_predict=y_test_predict_list[0]\n",
    "y_test=y_test_list[0]\n",
    "abs_error = np.abs(y_test_predict-y_test)\n",
    "squared_error = np.power(y_test_predict-y_test,2)\n",
    "rmse = np.sqrt(np.mean(np.power(y_test_predict-y_test,2)))\n",
    "abs_error_perc = np.round(100*np.abs((y_test_predict-y_test)/y_test),2)\n",
    "\n",
    "plt.hist(abs_error, 10, density=True, facecolor='b', alpha=0.75)\n",
    "plt.xlabel('abs error')\n",
    "plt.show()\n",
    "plt.hist(squared_error, 10, density=True, facecolor='b', alpha=0.75)\n",
    "plt.xlabel('squared error')\n",
    "plt.show()\n",
    "plt.hist(rmse, 10, density=True, facecolor='b', alpha=0.75)\n",
    "plt.xlabel('rmse error')\n",
    "plt.show()\n",
    "plt.hist(abs_error_perc, 10, density=True, facecolor='b', alpha=0.75)\n",
    "plt.xlabel('abs error perc')\n",
    "plt.show()"
   ]
  },
  {
   "cell_type": "code",
   "execution_count": 37,
   "metadata": {},
   "outputs": [
    {
     "name": "stdout",
     "output_type": "stream",
     "text": [
      "-----------Height Prediction-----------\n",
      "Number of samples in training data: 23104\n",
      "Number of samples in validation data: 9903\n",
      "\n",
      "Training Error (RMSE) : 25.206899974090433\n",
      "Test Error (RMSE) : 25.349149452027138\n",
      "\n",
      "Training Accuracy: 0.39106439871358334\n",
      "Training Accuracy Adjusted: 0.3830260855837171\n",
      "\n",
      "Testing Accuracy: 0.3881003828544509\n",
      "Testing Accuracy Adjusted: 0.3830260855837171\n"
     ]
    },
    {
     "data": {
      "image/png": "[encoded data removed]",
      "text/plain": [
       "<Figure size 432x288 with 1 Axes>"
      ]
     },
     "metadata": {
      "needs_background": "light"
     },
     "output_type": "display_data"
    },
    {
     "data": {
      "image/png": "[encoded data removed]",
      "text/plain": [
       "<Figure size 432x288 with 1 Axes>"
      ]
     },
     "metadata": {
      "needs_background": "light"
     },
     "output_type": "display_data"
    },
    {
     "data": {
      "image/png": "[encoded data removed]",
      "text/plain": [
       "<Figure size 432x288 with 1 Axes>"
      ]
     },
     "metadata": {
      "needs_background": "light"
     },
     "output_type": "display_data"
    },
    {
     "data": {
      "image/png": "[encoded data removed]",
      "text/plain": [
       "<Figure size 432x288 with 1 Axes>"
      ]
     },
     "metadata": {
      "needs_background": "light"
     },
     "output_type": "display_data"
    }
   ],
   "source": [
    "print('-----------Height Prediction-----------')\n",
    "#linearRegressionModel(X,Y[['Height']])\n",
    "y_test_predict_list,y_test_list = linearRegressionModel(X,Y[['Height']])\n",
    "y_test_predict=y_test_predict_list[0]\n",
    "y_test=y_test_list[0]\n",
    "abs_error = np.abs(y_test_predict-y_test)\n",
    "squared_error = np.power(y_test_predict-y_test,2)\n",
    "rmse = np.sqrt(np.mean(np.power(y_test_predict-y_test,2)))\n",
    "abs_error_perc = np.round(100*np.abs((y_test_predict-y_test)/y_test),2)\n",
    "\n",
    "plt.hist(abs_error, 10, density=True, facecolor='b', alpha=0.75)\n",
    "plt.xlabel('abs error')\n",
    "plt.show()\n",
    "plt.hist(squared_error, 10, density=True, facecolor='b', alpha=0.75)\n",
    "plt.xlabel('squared error')\n",
    "plt.show()\n",
    "plt.hist(rmse, 10, density=True, facecolor='b', alpha=0.75)\n",
    "plt.xlabel('rmse error')\n",
    "plt.show()\n",
    "plt.hist(abs_error_perc, 10, density=True, facecolor='b', alpha=0.75)\n",
    "plt.xlabel('abs error perc')\n",
    "plt.show()"
   ]
  },
  {
   "cell_type": "code",
   "execution_count": 38,
   "metadata": {},
   "outputs": [
    {
     "name": "stdout",
     "output_type": "stream",
     "text": [
      "-----------Depth Prediction-----------\n",
      "Number of samples in training data: 23104\n",
      "Number of samples in validation data: 9903\n",
      "\n",
      "Training Error (RMSE) : 84.30710232832125\n",
      "Test Error (RMSE) : 84.68156765447742\n",
      "\n",
      "Training Accuracy: 0.7317079946014273\n",
      "Training Accuracy Adjusted: 0.7281663801103753\n",
      "\n",
      "Testing Accuracy: 0.7311755916937911\n",
      "Testing Accuracy Adjusted: 0.7281663801103753\n"
     ]
    },
    {
     "data": {
      "image/png": "[encoded data removed]",
      "text/plain": [
       "<Figure size 432x288 with 1 Axes>"
      ]
     },
     "metadata": {
      "needs_background": "light"
     },
     "output_type": "display_data"
    },
    {
     "data": {
      "image/png": "[encoded data removed]",
      "text/plain": [
       "<Figure size 432x288 with 1 Axes>"
      ]
     },
     "metadata": {
      "needs_background": "light"
     },
     "output_type": "display_data"
    },
    {
     "data": {
      "image/png": "[encoded data removed]",
      "text/plain": [
       "<Figure size 432x288 with 1 Axes>"
      ]
     },
     "metadata": {
      "needs_background": "light"
     },
     "output_type": "display_data"
    },
    {
     "data": {
      "image/png": "[encoded data removed]",
      "text/plain": [
       "<Figure size 432x288 with 1 Axes>"
      ]
     },
     "metadata": {
      "needs_background": "light"
     },
     "output_type": "display_data"
    }
   ],
   "source": [
    "print('-----------Depth Prediction-----------')\n",
    "#linearRegressionModel(X,Y[['Depth']])\n",
    "y_test_predict_list,y_test_list = linearRegressionModel(X,Y[['Depth']])\n",
    "y_test_predict=y_test_predict_list[0]\n",
    "y_test=y_test_list[0]\n",
    "abs_error = np.abs(y_test_predict-y_test)\n",
    "squared_error = np.power(y_test_predict-y_test,2)\n",
    "rmse = np.sqrt(np.mean(np.power(y_test_predict-y_test,2)))\n",
    "abs_error_perc = np.round(100*np.abs((y_test_predict-y_test)/y_test),2)\n",
    "\n",
    "plt.hist(abs_error, 10, density=True, facecolor='b', alpha=0.75)\n",
    "plt.xlabel('abs error')\n",
    "plt.show()\n",
    "plt.hist(squared_error, 10, density=True, facecolor='b', alpha=0.75)\n",
    "plt.xlabel('squared error')\n",
    "plt.show()\n",
    "plt.hist(rmse, 10, density=True, facecolor='b', alpha=0.75)\n",
    "plt.xlabel('rmse error')\n",
    "plt.show()\n",
    "plt.hist(abs_error_perc, 10, density=True, facecolor='b', alpha=0.75)\n",
    "plt.xlabel('abs error perc')\n",
    "plt.show()"
   ]
  },
  {
   "cell_type": "code",
   "execution_count": 39,
   "metadata": {},
   "outputs": [
    {
     "name": "stdout",
     "output_type": "stream",
     "text": [
      "-----------TotalHeight Prediction-----------\n",
      "Number of samples in training data: 23104\n",
      "Number of samples in validation data: 9903\n",
      "\n",
      "Training Error (RMSE) : 84.07791838446475\n",
      "Test Error (RMSE) : 84.23689235818392\n",
      "\n",
      "Training Accuracy: 0.7275187567930224\n",
      "Training Accuracy Adjusted: 0.7239218418642749\n",
      "\n",
      "Testing Accuracy: 0.728056780071637\n",
      "Testing Accuracy Adjusted: 0.7239218418642749\n"
     ]
    },
    {
     "data": {
      "image/png": "[encoded data removed]",
      "text/plain": [
       "<Figure size 432x288 with 1 Axes>"
      ]
     },
     "metadata": {
      "needs_background": "light"
     },
     "output_type": "display_data"
    },
    {
     "data": {
      "image/png": "[encoded data removed]",
      "text/plain": [
       "<Figure size 432x288 with 1 Axes>"
      ]
     },
     "metadata": {
      "needs_background": "light"
     },
     "output_type": "display_data"
    },
    {
     "data": {
      "image/png": "[encoded data removed]",
      "text/plain": [
       "<Figure size 432x288 with 1 Axes>"
      ]
     },
     "metadata": {
      "needs_background": "light"
     },
     "output_type": "display_data"
    },
    {
     "data": {
      "image/png": "[encoded data removed]",
      "text/plain": [
       "<Figure size 432x288 with 1 Axes>"
      ]
     },
     "metadata": {
      "needs_background": "light"
     },
     "output_type": "display_data"
    }
   ],
   "source": [
    "print('-----------TotalHeight Prediction-----------')\n",
    "y_test_predict_list,y_test_list = linearRegressionModel(X,Y[['TotalHeight']])\n",
    "y_test_predict=y_test_predict_list[0]\n",
    "y_test=y_test_list[0]\n",
    "abs_error = np.abs(y_test_predict-y_test)\n",
    "squared_error = np.power(y_test_predict-y_test,2)\n",
    "rmse = np.sqrt(np.mean(np.power(y_test_predict-y_test,2)))\n",
    "abs_error_perc = np.round(100*np.abs((y_test_predict-y_test)/y_test),2)\n",
    "\n",
    "plt.hist(abs_error, 10, density=True, facecolor='b', alpha=0.75)\n",
    "plt.xlabel('abs error')\n",
    "plt.show()\n",
    "plt.hist(squared_error, 10, density=True, facecolor='b', alpha=0.75)\n",
    "plt.xlabel('squared error')\n",
    "plt.show()\n",
    "plt.hist(rmse, 10, density=True, facecolor='b', alpha=0.75)\n",
    "plt.xlabel('rmse error')\n",
    "plt.show()\n",
    "plt.hist(abs_error_perc, 10, density=True, facecolor='b', alpha=0.75)\n",
    "plt.xlabel('abs error perc')\n",
    "plt.show()"
   ]
  },
  {
   "cell_type": "markdown",
   "metadata": {},
   "source": [
    "## Random Forest Regression"
   ]
  },
  {
   "cell_type": "code",
   "execution_count": 42,
   "metadata": {},
   "outputs": [],
   "source": [
    "from sklearn.ensemble import RandomForestRegressor\n",
    "from sklearn.datasets import make_regression\n",
    "\n",
    "def RandomForestRegressionModel(X,Y):\n",
    "    y_test_predict_list=[]\n",
    "    y_test_list = []\n",
    "    x_train, x_test, y_train, y_test = train_test_split(X, Y, test_size=0.3, random_state = 100)\n",
    "    print ('Number of samples in training data:',len(x_train))\n",
    "    print ('Number of samples in validation data:',len(x_test))\n",
    "    print()\n",
    "\n",
    "    regr = RandomForestRegressor(max_depth=2, random_state=0).fit(X, Y.values.ravel())\n",
    "    y_train_predict = regr.predict(x_train)\n",
    "    training_error= np.sqrt(mean_squared_error(y_train, y_train_predict))\n",
    "    print(\"Training Error (RMSE) :\",training_error)\n",
    "    y_test_predict = regr.predict(x_test) \n",
    "    test_error= np.sqrt(mean_squared_error(y_test, y_test_predict)) \n",
    "    print(\"Test Error (RMSE) :\",test_error)\n",
    "    y_test_predict_list.append(y_test_predict)\n",
    "    y_test_list.append(y_test.values)\n",
    "\n",
    "    print()\n",
    "    training_accuracy= regr.score(x_train, y_train) \n",
    "    #training_accuracy = r2_score(y_train, y_train_predict)\n",
    "    print ('Training Accuracy:', training_accuracy)\n",
    "    training_accuracy_adjusted = 1-(1-training_accuracy)*((len(x_train)-1)/(len(x_train)-len(x_train.columns)-1))\n",
    "    print ('Training Accuracy Adjusted:', training_accuracy_adjusted)  \n",
    "    print()\n",
    "    test_accuracy= regr.score(x_test, y_test) \n",
    "    print ('Testing Accuracy:', test_accuracy)\n",
    "    test_accuracy_adjusted = 1-(1-test_accuracy)*((len(x_test)-1)/(len(x_test)-len(x_test.columns)-1))\n",
    "    print ('Testing Accuracy Adjusted:', training_accuracy_adjusted)  \n",
    "    return y_test_predict_list,y_test_list"
   ]
  },
  {
   "cell_type": "code",
   "execution_count": 43,
   "metadata": {},
   "outputs": [
    {
     "data": {
      "text/plain": [
       "((33007, 301), (33007, 4))"
      ]
     },
     "execution_count": 43,
     "metadata": {},
     "output_type": "execute_result"
    }
   ],
   "source": [
    "X=X_162_182\n",
    "Y=Y_162_182\n",
    "X.shape,Y.shape"
   ]
  },
  {
   "cell_type": "code",
   "execution_count": 45,
   "metadata": {},
   "outputs": [
    {
     "name": "stdout",
     "output_type": "stream",
     "text": [
      "-----------Width Prediction-----------\n",
      "Number of samples in training data: 23104\n",
      "Number of samples in validation data: 9903\n",
      "\n",
      "Training Error (RMSE) : 31.87166522902372\n",
      "Test Error (RMSE) : 31.961906177320852\n",
      "\n",
      "Training Accuracy: 0.5354182408863297\n",
      "Training Accuracy Adjusted: 0.5292854845713918\n",
      "\n",
      "Testing Accuracy: 0.530161404332367\n",
      "Testing Accuracy Adjusted: 0.5292854845713918\n"
     ]
    },
    {
     "data": {
      "image/png": "[encoded data removed]",
      "text/plain": [
       "<Figure size 432x288 with 1 Axes>"
      ]
     },
     "metadata": {
      "needs_background": "light"
     },
     "output_type": "display_data"
    },
    {
     "data": {
      "image/png": "[encoded data removed]",
      "text/plain": [
       "<Figure size 432x288 with 1 Axes>"
      ]
     },
     "metadata": {
      "needs_background": "light"
     },
     "output_type": "display_data"
    },
    {
     "data": {
      "image/png": "[encoded data removed]",
      "text/plain": [
       "<Figure size 432x288 with 1 Axes>"
      ]
     },
     "metadata": {
      "needs_background": "light"
     },
     "output_type": "display_data"
    },
    {
     "data": {
      "image/png": "[encoded data removed]",
      "text/plain": [
       "<Figure size 432x288 with 1 Axes>"
      ]
     },
     "metadata": {
      "needs_background": "light"
     },
     "output_type": "display_data"
    }
   ],
   "source": [
    "print('-----------Width Prediction-----------')\n",
    "y_test_predict_list,y_test_list = RandomForestRegressionModel(X,Y[['Width']])\n",
    "y_test_predict=y_test_predict_list[0]\n",
    "y_test=y_test_list[0]\n",
    "abs_error = np.abs(y_test_predict-y_test)\n",
    "squared_error = np.power(y_test_predict-y_test,2)\n",
    "rmse = np.sqrt(np.mean(np.power(y_test_predict-y_test,2)))\n",
    "abs_error_perc = np.round(100*np.abs((y_test_predict-y_test)/y_test),2)\n",
    "\n",
    "plt.hist(abs_error, 10, density=True, facecolor='b', alpha=0.75)\n",
    "plt.xlabel('abs error')\n",
    "plt.show()\n",
    "plt.hist(squared_error, 10, density=True, facecolor='b', alpha=0.75)\n",
    "plt.xlabel('squared error')\n",
    "plt.show()\n",
    "plt.hist(rmse, 10, density=True, facecolor='b', alpha=0.75)\n",
    "plt.xlabel('rmse error')\n",
    "plt.show()\n",
    "plt.hist(abs_error_perc, 10, density=True, facecolor='b', alpha=0.75)\n",
    "plt.xlabel('abs error perc')\n",
    "plt.show()"
   ]
  },
  {
   "cell_type": "code",
   "execution_count": 46,
   "metadata": {},
   "outputs": [
    {
     "name": "stdout",
     "output_type": "stream",
     "text": [
      "-----------Height Prediction-----------\n",
      "Number of samples in training data: 23104\n",
      "Number of samples in validation data: 9903\n",
      "\n",
      "Training Error (RMSE) : 27.050553678087333\n",
      "Test Error (RMSE) : 26.982374270905506\n",
      "\n",
      "Training Accuracy: 0.29873073166676267\n",
      "Training Accuracy Adjusted: 0.2894735590604868\n",
      "\n",
      "Testing Accuracy: 0.30671193826470666\n",
      "Testing Accuracy Adjusted: 0.2894735590604868\n"
     ]
    },
    {
     "data": {
      "image/png": "[encoded data removed]",
      "text/plain": [
       "<Figure size 432x288 with 1 Axes>"
      ]
     },
     "metadata": {
      "needs_background": "light"
     },
     "output_type": "display_data"
    },
    {
     "data": {
      "image/png": "[encoded data removed]",
      "text/plain": [
       "<Figure size 432x288 with 1 Axes>"
      ]
     },
     "metadata": {
      "needs_background": "light"
     },
     "output_type": "display_data"
    },
    {
     "data": {
      "image/png": "[encoded data removed]",
      "text/plain": [
       "<Figure size 432x288 with 1 Axes>"
      ]
     },
     "metadata": {
      "needs_background": "light"
     },
     "output_type": "display_data"
    },
    {
     "data": {
      "image/png": "[encoded data removed]",
      "text/plain": [
       "<Figure size 432x288 with 1 Axes>"
      ]
     },
     "metadata": {
      "needs_background": "light"
     },
     "output_type": "display_data"
    }
   ],
   "source": [
    "print('-----------Height Prediction-----------')\n",
    "# RandomForestRegressionModel(X,Y[['Height']])\n",
    "# print('-----------Width Prediction-----------')\n",
    "y_test_predict_list,y_test_list = RandomForestRegressionModel(X,Y[['Height']])\n",
    "y_test_predict=y_test_predict_list[0]\n",
    "y_test=y_test_list[0]\n",
    "abs_error = np.abs(y_test_predict-y_test)\n",
    "squared_error = np.power(y_test_predict-y_test,2)\n",
    "rmse = np.sqrt(np.mean(np.power(y_test_predict-y_test,2)))\n",
    "abs_error_perc = np.round(100*np.abs((y_test_predict-y_test)/y_test),2)\n",
    "\n",
    "plt.hist(abs_error, 10, density=True, facecolor='b', alpha=0.75)\n",
    "plt.xlabel('abs error')\n",
    "plt.show()\n",
    "plt.hist(squared_error, 10, density=True, facecolor='b', alpha=0.75)\n",
    "plt.xlabel('squared error')\n",
    "plt.show()\n",
    "plt.hist(rmse, 10, density=True, facecolor='b', alpha=0.75)\n",
    "plt.xlabel('rmse error')\n",
    "plt.show()\n",
    "plt.hist(abs_error_perc, 10, density=True, facecolor='b', alpha=0.75)\n",
    "plt.xlabel('abs error perc')\n",
    "plt.show()"
   ]
  },
  {
   "cell_type": "code",
   "execution_count": 48,
   "metadata": {},
   "outputs": [
    {
     "name": "stdout",
     "output_type": "stream",
     "text": [
      "-----------Depth Prediction-----------\n",
      "Number of samples in training data: 23104\n",
      "Number of samples in validation data: 9903\n",
      "\n",
      "Training Error (RMSE) : 112.83236762961207\n",
      "Test Error (RMSE) : 112.3739815392683\n",
      "\n",
      "Training Accuracy: 0.5194408962614752\n",
      "Training Accuracy Adjusted: 0.5130972294679792\n",
      "\n",
      "Testing Accuracy: 0.5266063179627694\n",
      "Testing Accuracy Adjusted: 0.5130972294679792\n"
     ]
    },
    {
     "data": {
      "image/png": "[encoded data removed]",
      "text/plain": [
       "<Figure size 432x288 with 1 Axes>"
      ]
     },
     "metadata": {
      "needs_background": "light"
     },
     "output_type": "display_data"
    },
    {
     "data": {
      "image/png": "[encoded data removed]",
      "text/plain": [
       "<Figure size 432x288 with 1 Axes>"
      ]
     },
     "metadata": {
      "needs_background": "light"
     },
     "output_type": "display_data"
    },
    {
     "data": {
      "image/png": "[encoded data removed]",
      "text/plain": [
       "<Figure size 432x288 with 1 Axes>"
      ]
     },
     "metadata": {
      "needs_background": "light"
     },
     "output_type": "display_data"
    },
    {
     "data": {
      "image/png": "[encoded data removed]",
      "text/plain": [
       "<Figure size 432x288 with 1 Axes>"
      ]
     },
     "metadata": {
      "needs_background": "light"
     },
     "output_type": "display_data"
    }
   ],
   "source": [
    "print('-----------Depth Prediction-----------')\n",
    "#RandomForestRegressionModel(X,Y[['Depth']])\n",
    "y_test_predict_list,y_test_list = RandomForestRegressionModel(X,Y[['Depth']])\n",
    "y_test_predict=y_test_predict_list[0]\n",
    "y_test=y_test_list[0]\n",
    "abs_error = np.abs(y_test_predict-y_test)\n",
    "squared_error = np.power(y_test_predict-y_test,2)\n",
    "rmse = np.sqrt(np.mean(np.power(y_test_predict-y_test,2)))\n",
    "abs_error_perc = np.round(100*np.abs((y_test_predict-y_test)/y_test),2)\n",
    "\n",
    "plt.hist(abs_error, 10, density=True, facecolor='b', alpha=0.75)\n",
    "plt.xlabel('abs error')\n",
    "plt.show()\n",
    "plt.hist(squared_error, 10, density=True, facecolor='b', alpha=0.75)\n",
    "plt.xlabel('squared error')\n",
    "plt.show()\n",
    "plt.hist(rmse, 10, density=True, facecolor='b', alpha=0.75)\n",
    "plt.xlabel('rmse error')\n",
    "plt.show()\n",
    "plt.hist(abs_error_perc, 10, density=True, facecolor='b', alpha=0.75)\n",
    "plt.xlabel('abs error perc')\n",
    "plt.show()"
   ]
  },
  {
   "cell_type": "code",
   "execution_count": 49,
   "metadata": {},
   "outputs": [
    {
     "name": "stdout",
     "output_type": "stream",
     "text": [
      "-----------TotalHeight Prediction-----------\n",
      "Number of samples in training data: 23104\n",
      "Number of samples in validation data: 9903\n",
      "\n",
      "Training Error (RMSE) : 111.56807808803596\n",
      "Test Error (RMSE) : 110.91827303515502\n",
      "\n",
      "Training Accuracy: 0.5202084288417282\n",
      "Training Accuracy Adjusted: 0.5138748939360779\n",
      "\n",
      "Testing Accuracy: 0.5285021024733563\n",
      "Testing Accuracy Adjusted: 0.5138748939360779\n"
     ]
    },
    {
     "data": {
      "image/png": "[encoded data removed]",
      "text/plain": [
       "<Figure size 432x288 with 1 Axes>"
      ]
     },
     "metadata": {
      "needs_background": "light"
     },
     "output_type": "display_data"
    },
    {
     "data": {
      "image/png": "[encoded data removed]",
      "text/plain": [
       "<Figure size 432x288 with 1 Axes>"
      ]
     },
     "metadata": {
      "needs_background": "light"
     },
     "output_type": "display_data"
    },
    {
     "data": {
      "image/png": "[encoded data removed]",
      "text/plain": [
       "<Figure size 432x288 with 1 Axes>"
      ]
     },
     "metadata": {
      "needs_background": "light"
     },
     "output_type": "display_data"
    },
    {
     "data": {
      "image/png": "[encoded data removed]",
      "text/plain": [
       "<Figure size 432x288 with 1 Axes>"
      ]
     },
     "metadata": {
      "needs_background": "light"
     },
     "output_type": "display_data"
    }
   ],
   "source": [
    "print('-----------TotalHeight Prediction-----------')\n",
    "#RandomForestRegressionModel(X,Y[['TotalHeight']])\n",
    "\n",
    "y_test_predict_list,y_test_list = RandomForestRegressionModel(X,Y[['TotalHeight']])\n",
    "y_test_predict=y_test_predict_list[0]\n",
    "y_test=y_test_list[0]\n",
    "abs_error = np.abs(y_test_predict-y_test)\n",
    "squared_error = np.power(y_test_predict-y_test,2)\n",
    "rmse = np.sqrt(np.mean(np.power(y_test_predict-y_test,2)))\n",
    "abs_error_perc = np.round(100*np.abs((y_test_predict-y_test)/y_test),2)\n",
    "\n",
    "plt.hist(abs_error, 10, density=True, facecolor='b', alpha=0.75)\n",
    "plt.xlabel('abs error')\n",
    "plt.show()\n",
    "plt.hist(squared_error, 10, density=True, facecolor='b', alpha=0.75)\n",
    "plt.xlabel('squared error')\n",
    "plt.show()\n",
    "plt.hist(rmse, 10, density=True, facecolor='b', alpha=0.75)\n",
    "plt.xlabel('rmse error')\n",
    "plt.show()\n",
    "plt.hist(abs_error_perc, 10, density=True, facecolor='b', alpha=0.75)\n",
    "plt.xlabel('abs error perc')\n",
    "plt.show()"
   ]
  },
  {
   "cell_type": "markdown",
   "metadata": {},
   "source": [
    "## K-Nearest Neighbors Regression"
   ]
  },
  {
   "cell_type": "code",
   "execution_count": 50,
   "metadata": {},
   "outputs": [],
   "source": [
    "from sklearn.neighbors import KNeighborsRegressor\n",
    "from math import sqrt\n",
    "\n",
    "def KNNModel(X, Y):\n",
    "    x_train, x_test, y_train, y_test = train_test_split(X, Y, test_size=0.3, random_state = 100)\n",
    "    print ('Number of samples in training data:',len(x_train))\n",
    "    print ('Number of samples in validation data:',len(x_test))\n",
    "\n",
    "    rmse_val_d = {} #to store rmse values for different k\n",
    "    rmse_val=[]\n",
    "    for K in range(20):\n",
    "        K = K+1\n",
    "        model = KNeighborsRegressor(n_neighbors = K)\n",
    "        model.fit(x_train, y_train)  #fit the model\n",
    "        pred=model.predict(x_test) #make prediction on test set\n",
    "        error = sqrt(mean_squared_error(y_test,pred)) #calculate rmse\n",
    "        rmse_val_d[K]=error #store rmse values\n",
    "        rmse_val.append(error)\n",
    "        print('RMSE value for k = ' , K , 'is:', error)\n",
    "    curve = pd.DataFrame(rmse_val,index = np.arange(1,21)) #elbow curve \n",
    "    print(curve.plot())\n",
    "    neighbor = 0 \n",
    "    for k,v in rmse_val_d.items():\n",
    "        if v == min(rmse_val):\n",
    "            print('Neighbors: ',k)\n",
    "            neighbor=k\n",
    "            \n",
    "        \n",
    "    knn = KNeighborsRegressor(n_neighbors = neighbor)\n",
    "    knn.fit(x_train, y_train)\n",
    "    y_pred=model.predict(x_test)\n",
    "    rmse_error = sqrt(mean_squared_error(y_test,y_pred))\n",
    "    acc_knn = knn.score(x_test, y_test)\n",
    "    print(\"Test Error (RMSE) :\",rmse_error)\n",
    "    print ('Testing Accuracy:', acc_knn)"
   ]
  },
  {
   "cell_type": "code",
   "execution_count": 51,
   "metadata": {},
   "outputs": [
    {
     "data": {
      "text/plain": [
       "((33007, 301), (33007, 4))"
      ]
     },
     "execution_count": 51,
     "metadata": {},
     "output_type": "execute_result"
    }
   ],
   "source": [
    "X=X_162_182\n",
    "Y=Y_162_182\n",
    "X.shape,Y.shape"
   ]
  },
  {
   "cell_type": "code",
   "execution_count": 52,
   "metadata": {},
   "outputs": [
    {
     "name": "stdout",
     "output_type": "stream",
     "text": [
      "-----------Width Prediction-----------\n",
      "Number of samples in training data: 23104\n",
      "Number of samples in validation data: 9903\n",
      "RMSE value for k =  1 is: 28.613414153877716\n",
      "RMSE value for k =  2 is: 25.25660044023074\n",
      "RMSE value for k =  3 is: 24.137565065301693\n",
      "RMSE value for k =  4 is: 23.457177035115947\n",
      "RMSE value for k =  5 is: 23.24526670743728\n",
      "RMSE value for k =  6 is: 23.174178678183992\n",
      "RMSE value for k =  7 is: 23.078438536422595\n",
      "RMSE value for k =  8 is: 23.06471769469109\n",
      "RMSE value for k =  9 is: 23.06498695745125\n",
      "RMSE value for k =  10 is: 23.04665801051576\n",
      "RMSE value for k =  11 is: 23.027414558276668\n",
      "RMSE value for k =  12 is: 23.032328233373214\n",
      "RMSE value for k =  13 is: 23.066846465367377\n",
      "RMSE value for k =  14 is: 23.135416873579757\n",
      "RMSE value for k =  15 is: 23.148036646072377\n",
      "RMSE value for k =  16 is: 23.1791009883652\n",
      "RMSE value for k =  17 is: 23.188430476626454\n",
      "RMSE value for k =  18 is: 23.247913674349054\n",
      "RMSE value for k =  19 is: 23.29663465243771\n",
      "RMSE value for k =  20 is: 23.351062058269054\n",
      "AxesSubplot(0.125,0.125;0.775x0.755)\n",
      "Neighbors:  11\n",
      "Test Error (RMSE) : 23.351062058269054\n",
      "Testing Accuracy: 0.7561213938463607\n"
     ]
    },
    {
     "data": {
      "image/png": "[encoded data removed]",
      "text/plain": [
       "<Figure size 432x288 with 1 Axes>"
      ]
     },
     "metadata": {
      "needs_background": "light"
     },
     "output_type": "display_data"
    }
   ],
   "source": [
    "print('-----------Width Prediction-----------')\n",
    "KNNModel(X,Y[['Width']])"
   ]
  },
  {
   "cell_type": "code",
   "execution_count": 53,
   "metadata": {},
   "outputs": [
    {
     "name": "stdout",
     "output_type": "stream",
     "text": [
      "-----------Depth Prediction-----------\n",
      "Number of samples in training data: 23104\n",
      "Number of samples in validation data: 9903\n",
      "RMSE value for k =  1 is: 86.46326320599829\n",
      "RMSE value for k =  2 is: 76.70464718809203\n",
      "RMSE value for k =  3 is: 72.8648298458897\n",
      "RMSE value for k =  4 is: 70.85612288708535\n",
      "RMSE value for k =  5 is: 69.92628114770484\n",
      "RMSE value for k =  6 is: 69.36203686418207\n",
      "RMSE value for k =  7 is: 69.05513154847367\n",
      "RMSE value for k =  8 is: 68.60570572303459\n",
      "RMSE value for k =  9 is: 68.57978589744613\n",
      "RMSE value for k =  10 is: 68.259314144849\n",
      "RMSE value for k =  11 is: 68.14658151574912\n",
      "RMSE value for k =  12 is: 67.9741213323932\n",
      "RMSE value for k =  13 is: 67.9498254751852\n",
      "RMSE value for k =  14 is: 67.80187527482357\n",
      "RMSE value for k =  15 is: 67.75049809099927\n",
      "RMSE value for k =  16 is: 67.7904263212101\n",
      "RMSE value for k =  17 is: 67.82006583837091\n",
      "RMSE value for k =  18 is: 68.00181277618293\n",
      "RMSE value for k =  19 is: 68.12715201058057\n",
      "RMSE value for k =  20 is: 68.10724125812587\n",
      "AxesSubplot(0.125,0.125;0.775x0.755)\n",
      "Neighbors:  15\n",
      "Test Error (RMSE) : 68.10724125812587\n",
      "Testing Accuracy: 0.8279257422192017\n"
     ]
    },
    {
     "data": {
      "image/png": "[encoded data removed]",
      "text/plain": [
       "<Figure size 432x288 with 1 Axes>"
      ]
     },
     "metadata": {
      "needs_background": "light"
     },
     "output_type": "display_data"
    }
   ],
   "source": [
    "print('-----------Depth Prediction-----------')\n",
    "KNNModel(X,Y[['Depth']])"
   ]
  },
  {
   "cell_type": "code",
   "execution_count": 54,
   "metadata": {},
   "outputs": [
    {
     "name": "stdout",
     "output_type": "stream",
     "text": [
      "-----------Height Prediction-----------\n",
      "Number of samples in training data: 23104\n",
      "Number of samples in validation data: 9903\n",
      "RMSE value for k =  1 is: 31.559061132943004\n",
      "RMSE value for k =  2 is: 27.394492218590816\n",
      "RMSE value for k =  3 is: 25.941985033754168\n",
      "RMSE value for k =  4 is: 25.21294350052462\n",
      "RMSE value for k =  5 is: 24.6481782978144\n",
      "RMSE value for k =  6 is: 24.383670372025293\n",
      "RMSE value for k =  7 is: 24.158661236245987\n",
      "RMSE value for k =  8 is: 23.996466863556726\n",
      "RMSE value for k =  9 is: 23.889984605035114\n",
      "RMSE value for k =  10 is: 23.852193878743815\n",
      "RMSE value for k =  11 is: 23.824507261736\n",
      "RMSE value for k =  12 is: 23.763690213714902\n",
      "RMSE value for k =  13 is: 23.71854750013866\n",
      "RMSE value for k =  14 is: 23.741483399308848\n",
      "RMSE value for k =  15 is: 23.71659131598409\n",
      "RMSE value for k =  16 is: 23.722777712927357\n",
      "RMSE value for k =  17 is: 23.72890546684247\n",
      "RMSE value for k =  18 is: 23.728685170165264\n",
      "RMSE value for k =  19 is: 23.683249444132876\n",
      "RMSE value for k =  20 is: 23.687680929693688\n",
      "AxesSubplot(0.125,0.125;0.775x0.755)\n",
      "Neighbors:  19\n",
      "Test Error (RMSE) : 23.687680929693688\n",
      "Testing Accuracy: 0.4658835225646778\n"
     ]
    },
    {
     "data": {
      "image/png": "[encoded data removed]",
      "text/plain": [
       "<Figure size 432x288 with 1 Axes>"
      ]
     },
     "metadata": {
      "needs_background": "light"
     },
     "output_type": "display_data"
    }
   ],
   "source": [
    "print('-----------Height Prediction-----------')\n",
    "KNNModel(X,Y[['Height']])"
   ]
  },
  {
   "cell_type": "code",
   "execution_count": 55,
   "metadata": {},
   "outputs": [
    {
     "name": "stdout",
     "output_type": "stream",
     "text": [
      "-----------TotalHeight Prediction-----------\n",
      "Number of samples in training data: 23104\n",
      "Number of samples in validation data: 9903\n",
      "RMSE value for k =  1 is: 86.30270562453931\n",
      "RMSE value for k =  2 is: 76.83353884132953\n",
      "RMSE value for k =  3 is: 72.89397957865312\n",
      "RMSE value for k =  4 is: 70.99910526526912\n",
      "RMSE value for k =  5 is: 70.09975413488651\n",
      "RMSE value for k =  6 is: 69.50000836436456\n",
      "RMSE value for k =  7 is: 69.1885949154722\n",
      "RMSE value for k =  8 is: 68.68408871678353\n",
      "RMSE value for k =  9 is: 68.65603984560984\n",
      "RMSE value for k =  10 is: 68.33740135129474\n",
      "RMSE value for k =  11 is: 68.20025841252216\n",
      "RMSE value for k =  12 is: 68.05543410533234\n",
      "RMSE value for k =  13 is: 68.00120306531537\n",
      "RMSE value for k =  14 is: 67.86600701667878\n",
      "RMSE value for k =  15 is: 67.78405049695722\n",
      "RMSE value for k =  16 is: 67.83961288292369\n",
      "RMSE value for k =  17 is: 67.87353999356962\n",
      "RMSE value for k =  18 is: 68.06274574164149\n",
      "RMSE value for k =  19 is: 68.18177965897392\n",
      "RMSE value for k =  20 is: 68.14633508135341\n",
      "AxesSubplot(0.125,0.125;0.775x0.755)\n",
      "Neighbors:  15\n",
      "Test Error (RMSE) : 68.14633508135341\n",
      "Testing Accuracy: 0.8239124722198427\n"
     ]
    },
    {
     "data": {
      "image/png": "[encoded data removed]",
      "text/plain": [
       "<Figure size 432x288 with 1 Axes>"
      ]
     },
     "metadata": {
      "needs_background": "light"
     },
     "output_type": "display_data"
    }
   ],
   "source": [
    "print('-----------TotalHeight Prediction-----------')\n",
    "KNNModel(X,Y[['TotalHeight']])"
   ]
  }
 ],
 "metadata": {
  "kernelspec": {
   "display_name": "Python 3",
   "language": "python",
   "name": "python3"
  },
  "language_info": {
   "codemirror_mode": {
    "name": "ipython",
    "version": 3
   },
   "file_extension": ".py",
   "mimetype": "text/x-python",
   "name": "python",
   "nbconvert_exporter": "python",
   "pygments_lexer": "ipython3",
   "version": "3.7.7"
  }
 },
 "nbformat": 4,
 "nbformat_minor": 4
}
